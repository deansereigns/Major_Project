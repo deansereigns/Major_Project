{
 "cells": [
  {
   "cell_type": "code",
   "execution_count": 1,
   "metadata": {
    "collapsed": false
   },
   "outputs": [
    {
     "name": "stderr",
     "output_type": "stream",
     "text": [
      "/usr/local/lib/python2.7/dist-packages/matplotlib/font_manager.py:273: UserWarning: Matplotlib is building the font cache using fc-list. This may take a moment.\n",
      "  warnings.warn('Matplotlib is building the font cache using fc-list. This may take a moment.')\n"
     ]
    }
   ],
   "source": [
    "import numpy as np\n",
    "import pandas as pd\n",
    "\n",
    "import sys, os, time\n",
    "import glob\n",
    "\n",
    "from matplotlib import pyplot as plt\n",
    "%matplotlib inline\n",
    "\n",
    "# these magics ensure that external modules that are modified are also automatically reloaded\n",
    "%load_ext autoreload\n",
    "%autoreload 2"
   ]
  },
  {
   "cell_type": "code",
   "execution_count": 52,
   "metadata": {
    "collapsed": true
   },
   "outputs": [],
   "source": [
    "import gzip\n",
    "import cPickle as pickle"
   ]
  },
  {
   "cell_type": "code",
   "execution_count": 4,
   "metadata": {
    "collapsed": true
   },
   "outputs": [],
   "source": [
    "# satellite imagery modules\n",
    "\n",
    "import sys\n",
    "sys.path.append(\"../../satellite-image-tools/satimage-processing/\")\n",
    "import satimg "
   ]
  },
  {
   "cell_type": "code",
   "execution_count": 5,
   "metadata": {
    "collapsed": true
   },
   "outputs": [],
   "source": [
    "# path to save data\n",
    "\n",
    "outPath = \"/home/ubuntu/data/2500-cities/\"\n",
    "\n",
    "if not os.path.exists(outPath):\n",
    "\tos.makedirs(outPath)"
   ]
  },
  {
   "cell_type": "code",
   "execution_count": 6,
   "metadata": {
    "collapsed": true
   },
   "outputs": [],
   "source": [
    "# some reference location for testing\n",
    "\n",
    "locSF = (37.7749, -122.4194) # San Francisco lat/lon"
   ]
  },
  {
   "cell_type": "markdown",
   "metadata": {},
   "source": [
    "# Set up sampling locations"
   ]
  },
  {
   "cell_type": "markdown",
   "metadata": {},
   "source": [
    "#### Load locations of interest: the top 2500 cities in Africa by population"
   ]
  },
  {
   "cell_type": "code",
   "execution_count": 7,
   "metadata": {
    "collapsed": false
   },
   "outputs": [
    {
     "data": {
      "text/html": [
       "<div>\n",
       "<table border=\"1\" class=\"dataframe\">\n",
       "  <thead>\n",
       "    <tr style=\"text-align: right;\">\n",
       "      <th></th>\n",
       "      <th>TARGET_FID</th>\n",
       "      <th>POINT_X</th>\n",
       "      <th>POINT_Y</th>\n",
       "      <th>ISO_CC</th>\n",
       "      <th>Name</th>\n",
       "      <th>Population</th>\n",
       "      <th>DFCC_Descr</th>\n",
       "    </tr>\n",
       "  </thead>\n",
       "  <tbody>\n",
       "    <tr>\n",
       "      <th>0</th>\n",
       "      <td>0</td>\n",
       "      <td>16.427135</td>\n",
       "      <td>-28.552621</td>\n",
       "      <td>NaN</td>\n",
       "      <td>Oranjemund</td>\n",
       "      <td>10,000 to 50,000</td>\n",
       "      <td>Town</td>\n",
       "    </tr>\n",
       "    <tr>\n",
       "      <th>1</th>\n",
       "      <td>1</td>\n",
       "      <td>14.495265</td>\n",
       "      <td>-22.971726</td>\n",
       "      <td>NaN</td>\n",
       "      <td>Walvis Bay</td>\n",
       "      <td>50,000 to 100,000</td>\n",
       "      <td>Town</td>\n",
       "    </tr>\n",
       "    <tr>\n",
       "      <th>2</th>\n",
       "      <td>2</td>\n",
       "      <td>14.530498</td>\n",
       "      <td>-22.678504</td>\n",
       "      <td>NaN</td>\n",
       "      <td>Swakopmund</td>\n",
       "      <td>10,000 to 50,000</td>\n",
       "      <td>Administrative Division Center (major)</td>\n",
       "    </tr>\n",
       "    <tr>\n",
       "      <th>3</th>\n",
       "      <td>3</td>\n",
       "      <td>16.645626</td>\n",
       "      <td>-20.471170</td>\n",
       "      <td>NaN</td>\n",
       "      <td>Otjiwarongo</td>\n",
       "      <td>10,000 to 50,000</td>\n",
       "      <td>Administrative Division Center (major)</td>\n",
       "    </tr>\n",
       "    <tr>\n",
       "      <th>4</th>\n",
       "      <td>4</td>\n",
       "      <td>15.994973</td>\n",
       "      <td>-17.923148</td>\n",
       "      <td>NaN</td>\n",
       "      <td>Ondangwa</td>\n",
       "      <td>10,000 to 50,000</td>\n",
       "      <td>Town</td>\n",
       "    </tr>\n",
       "  </tbody>\n",
       "</table>\n",
       "</div>"
      ],
      "text/plain": [
       "   TARGET_FID    POINT_X    POINT_Y ISO_CC         Name         Population  \\\n",
       "0           0  16.427135 -28.552621    NaN   Oranjemund   10,000 to 50,000   \n",
       "1           1  14.495265 -22.971726    NaN   Walvis Bay  50,000 to 100,000   \n",
       "2           2  14.530498 -22.678504    NaN   Swakopmund   10,000 to 50,000   \n",
       "3           3  16.645626 -20.471170    NaN  Otjiwarongo   10,000 to 50,000   \n",
       "4           4  15.994973 -17.923148    NaN     Ondangwa   10,000 to 50,000   \n",
       "\n",
       "                               DFCC_Descr  \n",
       "0                                    Town  \n",
       "1                                    Town  \n",
       "2  Administrative Division Center (major)  \n",
       "3  Administrative Division Center (major)  \n",
       "4                                    Town  "
      ]
     },
     "execution_count": 7,
     "metadata": {},
     "output_type": "execute_result"
    }
   ],
   "source": [
    "cityInfo = pd.read_csv(\"/home/ubuntu/data/point_coordinates_town.txt\", sep=\"\\t\")\n",
    "cityInfo['TARGET_FID'] = cityInfo['TARGET_FID'].astype(int)\n",
    "cityInfo.head()"
   ]
  },
  {
   "cell_type": "markdown",
   "metadata": {},
   "source": [
    "#### Sample 100 locations within a 100km x 100km bounding box around loc=(lat,lon)"
   ]
  },
  {
   "cell_type": "code",
   "execution_count": 8,
   "metadata": {
    "collapsed": true
   },
   "outputs": [],
   "source": [
    "np.random.seed(0)"
   ]
  },
  {
   "cell_type": "code",
   "execution_count": 13,
   "metadata": {
    "collapsed": true
   },
   "outputs": [],
   "source": [
    "locations = map(lambda i, lat, lon: \\\n",
    "                [(i, lat, lon, l[0], l[1]) \\\n",
    "                 for l in satimg.generate_locations_around_latlon((lat,lon), W=400, nSamples=100)],\\\n",
    "                cityInfo['TARGET_FID'], cityInfo['POINT_Y'], cityInfo['POINT_X'])"
   ]
  },
  {
   "cell_type": "code",
   "execution_count": 14,
   "metadata": {
    "collapsed": false
   },
   "outputs": [],
   "source": [
    "locations = np.array(locations)\n",
    "locations = locations.reshape((locations.shape[0]*locations.shape[1], locations.shape[2]))"
   ]
  },
  {
   "cell_type": "code",
   "execution_count": 15,
   "metadata": {
    "collapsed": false
   },
   "outputs": [],
   "source": [
    "locations = pd.DataFrame(locations, columns=[\"sample ID\", \"city lat\", \"city lon\", \"image lat\", \"image lon\"])\n",
    "locations['sample ID'] = locations['sample ID'].astype(int)\n",
    "locations.set_index('sample ID', inplace=True)"
   ]
  },
  {
   "cell_type": "code",
   "execution_count": 16,
   "metadata": {
    "collapsed": false
   },
   "outputs": [
    {
     "data": {
      "text/html": [
       "<div>\n",
       "<table border=\"1\" class=\"dataframe\">\n",
       "  <thead>\n",
       "    <tr style=\"text-align: right;\">\n",
       "      <th></th>\n",
       "      <th>city lat</th>\n",
       "      <th>city lon</th>\n",
       "      <th>image lat</th>\n",
       "      <th>image lon</th>\n",
       "    </tr>\n",
       "    <tr>\n",
       "      <th>sample ID</th>\n",
       "      <th></th>\n",
       "      <th></th>\n",
       "      <th></th>\n",
       "      <th></th>\n",
       "    </tr>\n",
       "  </thead>\n",
       "  <tbody>\n",
       "    <tr>\n",
       "      <th>0</th>\n",
       "      <td>-28.552621</td>\n",
       "      <td>16.427135</td>\n",
       "      <td>-29.114299</td>\n",
       "      <td>17.077197</td>\n",
       "    </tr>\n",
       "    <tr>\n",
       "      <th>0</th>\n",
       "      <td>-28.552621</td>\n",
       "      <td>16.427135</td>\n",
       "      <td>-27.064779</td>\n",
       "      <td>14.647832</td>\n",
       "    </tr>\n",
       "    <tr>\n",
       "      <th>0</th>\n",
       "      <td>-28.552621</td>\n",
       "      <td>16.427135</td>\n",
       "      <td>-27.694160</td>\n",
       "      <td>17.913133</td>\n",
       "    </tr>\n",
       "    <tr>\n",
       "      <th>0</th>\n",
       "      <td>-28.552621</td>\n",
       "      <td>16.427135</td>\n",
       "      <td>-27.944938</td>\n",
       "      <td>16.794878</td>\n",
       "    </tr>\n",
       "    <tr>\n",
       "      <th>0</th>\n",
       "      <td>-28.552621</td>\n",
       "      <td>16.427135</td>\n",
       "      <td>-30.096896</td>\n",
       "      <td>14.888792</td>\n",
       "    </tr>\n",
       "  </tbody>\n",
       "</table>\n",
       "</div>"
      ],
      "text/plain": [
       "            city lat   city lon  image lat  image lon\n",
       "sample ID                                            \n",
       "0         -28.552621  16.427135 -29.114299  17.077197\n",
       "0         -28.552621  16.427135 -27.064779  14.647832\n",
       "0         -28.552621  16.427135 -27.694160  17.913133\n",
       "0         -28.552621  16.427135 -27.944938  16.794878\n",
       "0         -28.552621  16.427135 -30.096896  14.888792"
      ]
     },
     "execution_count": 16,
     "metadata": {},
     "output_type": "execute_result"
    }
   ],
   "source": [
    "locations.head()"
   ]
  },
  {
   "cell_type": "markdown",
   "metadata": {},
   "source": [
    "#### Filter out locations that are not on land"
   ]
  },
  {
   "cell_type": "code",
   "execution_count": 17,
   "metadata": {
    "collapsed": false
   },
   "outputs": [
    {
     "name": "stdout",
     "output_type": "stream",
     "text": [
      "8\n"
     ]
    }
   ],
   "source": [
    "from IPython import parallel\n",
    "\n",
    "rc = parallel.Client()\n",
    "all_engines = rc[:]\n",
    "lbv = rc.load_balanced_view()\n",
    "\n",
    "print len(all_engines)"
   ]
  },
  {
   "cell_type": "code",
   "execution_count": 18,
   "metadata": {
    "collapsed": true
   },
   "outputs": [],
   "source": [
    "%%px\n",
    "\n",
    "import ogr\n",
    "from IPython import embed\n",
    "import sys\n",
    "from IPython.display import display, clear_output\n",
    "\n",
    "drv = ogr.GetDriverByName('ESRI Shapefile') #We will load a shape file\n",
    "ds_in = drv.Open(\"/home/ubuntu/data/land-polygons-complete-4326/land_polygons.shp\")    #Get the contents of the shape file\n",
    "lyr_in = ds_in.GetLayer(0)    #Get the shape file's first layer\n",
    "\n",
    "#Put the title of the field you are interested in here\n",
    "idx_reg = lyr_in.GetLayerDefn().GetFieldIndex(\"P_Loc_Nm\")\n",
    "\n",
    "#If the latitude/longitude we're going to use is not in the projection\n",
    "#of the shapefile, then we will get erroneous results.\n",
    "#The following assumes that the latitude longitude is in WGS84\n",
    "#This is identified by the number \"4236\", as in \"EPSG:4326\"\n",
    "#We will create a transformation between this and the shapefile's\n",
    "#project, whatever it may be\n",
    "geo_ref = lyr_in.GetSpatialRef()\n",
    "point_ref=ogr.osr.SpatialReference()\n",
    "point_ref.ImportFromEPSG(4326)\n",
    "ctran=ogr.osr.CoordinateTransformation(point_ref,geo_ref)\n"
   ]
  },
  {
   "cell_type": "code",
   "execution_count": 19,
   "metadata": {
    "collapsed": true
   },
   "outputs": [],
   "source": [
    "def check(latlon):\n",
    "    i, lat, lon = latlon\n",
    "    sys.stdout.flush()\n",
    "    clear_output(wait=True)\n",
    "    print i\n",
    "    #Transform incoming longitude/latitude to the shapefile's projection\n",
    "    [lon,lat,z]=ctran.TransformPoint(lon,lat)\n",
    "\n",
    "    #Create a point\n",
    "    pt = ogr.Geometry(ogr.wkbPoint)\n",
    "    pt.SetPoint_2D(0, lon, lat)\n",
    "\n",
    "    #Set up a spatial filter such that the only features we see when we\n",
    "    #loop through \"lyr_in\" are those which overlap the point defined above\n",
    "    lyr_in.SetSpatialFilter(pt)\n",
    "    return len(lyr_in) > 0"
   ]
  },
  {
   "cell_type": "code",
   "execution_count": 20,
   "metadata": {
    "collapsed": true
   },
   "outputs": [],
   "source": [
    "locs = map(lambda i, lat, lon: (i, lat, lon), range(len(locations)), locations['image lat'], locations['image lon'])"
   ]
  },
  {
   "cell_type": "code",
   "execution_count": 21,
   "metadata": {
    "collapsed": false
   },
   "outputs": [],
   "source": [
    "amr = lbv.map_async(check, locs)"
   ]
  },
  {
   "cell_type": "code",
   "execution_count": 50,
   "metadata": {
    "collapsed": false
   },
   "outputs": [
    {
     "data": {
      "text/plain": [
       "u'249599\\n'"
      ]
     },
     "execution_count": 50,
     "metadata": {},
     "output_type": "execute_result"
    }
   ],
   "source": [
    "[s for s in amr.stdout if len(s)>0][-1]"
   ]
  },
  {
   "cell_type": "code",
   "execution_count": 53,
   "metadata": {
    "collapsed": true
   },
   "outputs": [],
   "source": [
    "with gzip.open(outPath + \"location_is_on_land.pickle.gz\", \"wb\") as f:\n",
    "    pickle.dump(amr.result(), f)"
   ]
  },
  {
   "cell_type": "code",
   "execution_count": 60,
   "metadata": {
    "collapsed": false
   },
   "outputs": [
    {
     "name": "stdout",
     "output_type": "stream",
     "text": [
      "212154\n"
     ]
    },
    {
     "data": {
      "text/html": [
       "<div>\n",
       "<table border=\"1\" class=\"dataframe\">\n",
       "  <thead>\n",
       "    <tr style=\"text-align: right;\">\n",
       "      <th></th>\n",
       "      <th>city lat</th>\n",
       "      <th>city lon</th>\n",
       "      <th>image lat</th>\n",
       "      <th>image lon</th>\n",
       "      <th>is on land</th>\n",
       "    </tr>\n",
       "    <tr>\n",
       "      <th>sample ID</th>\n",
       "      <th></th>\n",
       "      <th></th>\n",
       "      <th></th>\n",
       "      <th></th>\n",
       "      <th></th>\n",
       "    </tr>\n",
       "  </thead>\n",
       "  <tbody>\n",
       "    <tr>\n",
       "      <th>0</th>\n",
       "      <td>-28.552621</td>\n",
       "      <td>16.427135</td>\n",
       "      <td>-29.114299</td>\n",
       "      <td>17.077197</td>\n",
       "      <td>True</td>\n",
       "    </tr>\n",
       "    <tr>\n",
       "      <th>0</th>\n",
       "      <td>-28.552621</td>\n",
       "      <td>16.427135</td>\n",
       "      <td>-27.064779</td>\n",
       "      <td>14.647832</td>\n",
       "      <td>False</td>\n",
       "    </tr>\n",
       "    <tr>\n",
       "      <th>0</th>\n",
       "      <td>-28.552621</td>\n",
       "      <td>16.427135</td>\n",
       "      <td>-27.694160</td>\n",
       "      <td>17.913133</td>\n",
       "      <td>True</td>\n",
       "    </tr>\n",
       "    <tr>\n",
       "      <th>0</th>\n",
       "      <td>-28.552621</td>\n",
       "      <td>16.427135</td>\n",
       "      <td>-27.944938</td>\n",
       "      <td>16.794878</td>\n",
       "      <td>True</td>\n",
       "    </tr>\n",
       "    <tr>\n",
       "      <th>0</th>\n",
       "      <td>-28.552621</td>\n",
       "      <td>16.427135</td>\n",
       "      <td>-30.096896</td>\n",
       "      <td>14.888792</td>\n",
       "      <td>False</td>\n",
       "    </tr>\n",
       "  </tbody>\n",
       "</table>\n",
       "</div>"
      ],
      "text/plain": [
       "            city lat   city lon  image lat  image lon is on land\n",
       "sample ID                                                       \n",
       "0         -28.552621  16.427135 -29.114299  17.077197       True\n",
       "0         -28.552621  16.427135 -27.064779  14.647832      False\n",
       "0         -28.552621  16.427135 -27.694160  17.913133       True\n",
       "0         -28.552621  16.427135 -27.944938  16.794878       True\n",
       "0         -28.552621  16.427135 -30.096896  14.888792      False"
      ]
     },
     "execution_count": 60,
     "metadata": {},
     "output_type": "execute_result"
    }
   ],
   "source": [
    "isOnLand = np.array(amr.result())\n",
    "\n",
    "print isOnLand.sum()\n",
    "\n",
    "locations['is on land'] = isOnLand\n",
    "\n",
    "locations.head()"
   ]
  },
  {
   "cell_type": "code",
   "execution_count": 62,
   "metadata": {
    "collapsed": true
   },
   "outputs": [],
   "source": [
    "locations[locations['is on land']].to_csv(outPath + \"/sample-locations.csv\")"
   ]
  },
  {
   "cell_type": "code",
   "execution_count": null,
   "metadata": {
    "collapsed": true
   },
   "outputs": [],
   "source": []
  }
 ],
 "metadata": {
  "kernelspec": {
   "display_name": "Python 2",
   "language": "python",
   "name": "python2"
  },
  "language_info": {
   "codemirror_mode": {
    "name": "ipython",
    "version": 2
   },
   "file_extension": ".py",
   "mimetype": "text/x-python",
   "name": "python",
   "nbconvert_exporter": "python",
   "pygments_lexer": "ipython2",
   "version": "2.7.6"
  }
 },
 "nbformat": 4,
 "nbformat_minor": 1
}
