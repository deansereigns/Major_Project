{
 "cells": [
  {
   "cell_type": "markdown",
   "metadata": {},
   "source": [
    "# Notebook to save images to database accessible by Caffe"
   ]
  },
  {
   "cell_type": "code",
   "execution_count": 1,
   "metadata": {
    "collapsed": false
   },
   "outputs": [],
   "source": [
    "# Import several packages that will be used throughout\n",
    "\n",
    "# numeric packages\n",
    "import numpy as np\n",
    "import pandas as pd\n",
    "\n",
    "\n",
    "# filesystem and OS\n",
    "import sys, os, time\n",
    "import glob\n",
    "import tempfile\n",
    "import shutil\n",
    "\n",
    "# plotting\n",
    "from matplotlib import pyplot as plt\n",
    "%matplotlib inline\n",
    "\n",
    "from IPython.display import clear_output\n",
    "\n",
    "import warnings\n",
    "warnings.filterwarnings('ignore')\n",
    "\n",
    "# these magics ensure that external modules that are modified are also automatically reloaded\n",
    "%load_ext autoreload\n",
    "%autoreload 2"
   ]
  },
  {
   "cell_type": "code",
   "execution_count": 2,
   "metadata": {
    "collapsed": false
   },
   "outputs": [],
   "source": [
    "import sys, os\n",
    "sys.path.append(\"/usr/local/src/dec/caffe/python/\")\n",
    "\n",
    "os.environ['PATH'] = '/usr/local/src/dec/caffe/build/tools:'+os.environ['PATH']\n"
   ]
  },
  {
   "cell_type": "code",
   "execution_count": 42,
   "metadata": {
    "collapsed": false
   },
   "outputs": [],
   "source": [
    "city = \"US\"\n",
    "scale= 5\n",
    "\n",
    "inPath  = \"/home/adalbert/data/urban-environments/\"\n",
    "\n",
    "imgPath = \"%s/%s/\"%(inPath,city)"
   ]
  },
  {
   "cell_type": "code",
   "execution_count": 43,
   "metadata": {
    "collapsed": false
   },
   "outputs": [
    {
     "data": {
      "text/plain": [
       "<module 'caffeutils' from '../../../satellite-image-tools/caffe-client/caffeutils.pyc'>"
      ]
     },
     "execution_count": 43,
     "metadata": {},
     "output_type": "execute_result"
    }
   ],
   "source": [
    "# caffe wrapper module\n",
    "\n",
    "import sys\n",
    "sys.path.append(\"../../../satellite-image-tools/caffe-client\")\n",
    "import caffeutils as cu\n",
    "reload(cu)"
   ]
  },
  {
   "cell_type": "code",
   "execution_count": null,
   "metadata": {
    "collapsed": true
   },
   "outputs": [],
   "source": [
    "# def read_info(imgPath):\n",
    "#     # get paths to image files\n",
    "#     imgFiles = glob.glob(\"%s/*/googlemaps_*.jpg\"%(imgPath))\n",
    "#     imgFilesDf = pd.DataFrame([(f,f.split(\"/\")[-3], int(f.split(\"/\")[-2])) for f in imgFiles], \\\n",
    "#                               columns=[\"googlemaps image\", \"city\", \"sample ID\"])\n",
    "\n",
    "#     # read in low-res pixel data (nightlights, population)\n",
    "#     valFiles = glob.glob(\"%s/*/pixel_data.csv\"%(imgPath))\n",
    "#     valuesDf = pd.DataFrame([pd.read_csv(f).to_dict(\"records\")[0] for f in valFiles])\n",
    "#     valuesDf.set_index([\"city\", \"sample ID\"], inplace=True)\n",
    "\n",
    "#     # merge dataframes\n",
    "#     valuesDf = pd.merge(valuesDf.reset_index(), imgFilesDf, on=[\"city\", \"sample ID\"])\n",
    "#     valuesDf.set_index([\"city\", \"sample ID\"], inplace=True)\n",
    "    \n",
    "#     return valuesDf"
   ]
  },
  {
   "cell_type": "code",
   "execution_count": 7,
   "metadata": {
    "collapsed": true
   },
   "outputs": [],
   "source": [
    "def read_info(imgPath, imgFilter=None):\n",
    "    if not imgFilter: imgFilter = \"\"\n",
    "    # read in info on image files\n",
    "    imgFiles = glob.glob(\"%s/*/%s*.jpg\"%(imgPath,imgFilter)) + \\\n",
    "                glob.glob(\"%s/*/%s*.png\"%(imgPath,imgFilter))    \n",
    "    df = pd.DataFrame([(int(f.split(\"/\")[-2]),\\\n",
    "                        os.path.basename(f).split(\"_\")[0],\\\n",
    "                        int(os.path.basename(f).split(\"_\")[3].split(\".\")[0].replace(\"km\",\"\")) if len(os.path.basename(f).split(\"_\"))>3 else \"\", \\\n",
    "                        f) \\\n",
    "                       for f in imgFiles], \\\n",
    "                      columns=[\"sample ID\", \"source\", \"scale km\", \"filename\"])\n",
    "    df.set_index(\"sample ID\", inplace=True)\n",
    "        \n",
    "    # read in low-res pixel data (nightlights, population)\n",
    "    valFiles = glob.glob(\"%s/*/pixel_data.csv\"%(imgPath))\n",
    "    valuesDf = pd.concat([pd.read_csv(f) for f in valFiles])\n",
    "    valuesDf.set_index(\"sample ID\", inplace=True)    \n",
    "        \n",
    "    # merge dataframes\n",
    "    valuesDf = pd.merge(valuesDf.reset_index(), df.reset_index(), on=[\"sample ID\", \"scale km\"], how=\"outer\")\n",
    "    valuesDf.set_index(\"sample ID\", inplace=True)\n",
    "    valuesDf.sort_index(inplace=True)\n",
    "    \n",
    "    return valuesDf\n"
   ]
  },
  {
   "cell_type": "code",
   "execution_count": 44,
   "metadata": {
    "collapsed": false
   },
   "outputs": [
    {
     "name": "stdout",
     "output_type": "stream",
     "text": [
      "(200866, 1) (10572, 1)\n"
     ]
    }
   ],
   "source": [
    "train_file = \"%s/%s_%dkm_train.csv\"%(inPath,city,scale)\n",
    "test_file = \"%s/%s_%dkm_test.csv\"%(inPath,city,scale) \n",
    "\n",
    "if not os.path.exists(train_file) or not os.path.exists(test_file):\n",
    "    df = read_info(imgPath, imgFilter=\"SAR\")\n",
    "    df = df[df['scale km']==scale]\n",
    "    TRAIN_FRAC = 0.95\n",
    "    RAND_SEED = 0\n",
    "    # split to train/test\n",
    "    df_train = df[['filename']]\\\n",
    "        .sample(n=int(TRAIN_FRAC*len(df)), random_state=RAND_SEED)\\\n",
    "        .rename(columns={\"filename\":\"source\"})\n",
    "    df_test = df[['filename']]\\\n",
    "        .ix[~df.index.isin(df_train.index)]\\\n",
    "        .rename(columns={\"filename\":\"source\"})\n",
    "    # save to file\n",
    "    df_train.to_csv(train_file)\n",
    "    df_test.to_csv(test_file)\n",
    "else:\n",
    "    df_train = pd.read_csv(train_file)\n",
    "    df_test = pd.read_csv(test_file)\n",
    "    \n",
    "print df_train.shape, df_test.shape"
   ]
  },
  {
   "cell_type": "code",
   "execution_count": 45,
   "metadata": {
    "collapsed": false
   },
   "outputs": [
    {
     "data": {
      "text/plain": [
       "'/home/adalbert/data/urban-environments//US/63088/SAR_39.099668_-123.513105_5km.png'"
      ]
     },
     "execution_count": 45,
     "metadata": {},
     "output_type": "execute_result"
    }
   ],
   "source": [
    "df_train.iloc[0][0]"
   ]
  },
  {
   "cell_type": "code",
   "execution_count": 58,
   "metadata": {
    "collapsed": false
   },
   "outputs": [
    {
     "name": "stdout",
     "output_type": "stream",
     "text": [
      "0 255\n"
     ]
    },
    {
     "ename": "IndexError",
     "evalue": "too many indices for array",
     "output_type": "error",
     "traceback": [
      "\u001b[0;31m---------------------------------------------------------------------------\u001b[0m",
      "\u001b[0;31mIndexError\u001b[0m                                Traceback (most recent call last)",
      "\u001b[0;32m<ipython-input-58-ce8c755b7522>\u001b[0m in \u001b[0;36m<module>\u001b[0;34m()\u001b[0m\n\u001b[1;32m      7\u001b[0m \u001b[0mimg0\u001b[0m \u001b[0;34m=\u001b[0m \u001b[0mskimage\u001b[0m\u001b[0;34m.\u001b[0m\u001b[0mio\u001b[0m\u001b[0;34m.\u001b[0m\u001b[0mimread\u001b[0m\u001b[0;34m(\u001b[0m\u001b[0msrc\u001b[0m\u001b[0;34m)\u001b[0m\u001b[0;34m\u001b[0m\u001b[0m\n\u001b[1;32m      8\u001b[0m \u001b[0;32mprint\u001b[0m \u001b[0mimg0\u001b[0m\u001b[0;34m.\u001b[0m\u001b[0mmin\u001b[0m\u001b[0;34m(\u001b[0m\u001b[0;34m)\u001b[0m\u001b[0;34m,\u001b[0m \u001b[0mimg0\u001b[0m\u001b[0;34m.\u001b[0m\u001b[0mmax\u001b[0m\u001b[0;34m(\u001b[0m\u001b[0;34m)\u001b[0m\u001b[0;34m\u001b[0m\u001b[0m\n\u001b[0;32m----> 9\u001b[0;31m \u001b[0mimg1\u001b[0m \u001b[0;34m=\u001b[0m \u001b[0mcu\u001b[0m\u001b[0;34m.\u001b[0m\u001b[0mpreprocess_RGB_image\u001b[0m\u001b[0;34m(\u001b[0m\u001b[0mimg0\u001b[0m\u001b[0;34m)\u001b[0m\u001b[0;34m\u001b[0m\u001b[0m\n\u001b[0m\u001b[1;32m     10\u001b[0m \u001b[0mimg2\u001b[0m \u001b[0;34m=\u001b[0m \u001b[0mcu\u001b[0m\u001b[0;34m.\u001b[0m\u001b[0mdeprocess_RGB_image\u001b[0m\u001b[0;34m(\u001b[0m\u001b[0mimg1\u001b[0m\u001b[0;34m)\u001b[0m\u001b[0;34m\u001b[0m\u001b[0m\n\u001b[1;32m     11\u001b[0m \u001b[0;32mprint\u001b[0m \u001b[0mimg1\u001b[0m\u001b[0;34m.\u001b[0m\u001b[0mmin\u001b[0m\u001b[0;34m(\u001b[0m\u001b[0;34m)\u001b[0m\u001b[0;34m,\u001b[0m \u001b[0mimg1\u001b[0m\u001b[0;34m.\u001b[0m\u001b[0mmax\u001b[0m\u001b[0;34m(\u001b[0m\u001b[0;34m)\u001b[0m\u001b[0;34m\u001b[0m\u001b[0m\n",
      "\u001b[0;32m/home/adalbert/nbserver/satellite-image-tools/caffe-client/caffeutils.pyc\u001b[0m in \u001b[0;36mpreprocess_RGB_image\u001b[0;34m(img)\u001b[0m\n\u001b[1;32m    295\u001b[0m     \u001b[0mmean_rgb\u001b[0m \u001b[0;34m=\u001b[0m \u001b[0mnp\u001b[0m\u001b[0;34m.\u001b[0m\u001b[0marray\u001b[0m\u001b[0;34m(\u001b[0m\u001b[0;34m[\u001b[0m\u001b[0;36m107.4072\u001b[0m\u001b[0;34m,\u001b[0m \u001b[0;36m107.8797\u001b[0m\u001b[0;34m,\u001b[0m \u001b[0;36m103.334\u001b[0m\u001b[0;34m]\u001b[0m\u001b[0;34m)\u001b[0m \u001b[0;31m# ImageNet means\u001b[0m\u001b[0;34m\u001b[0m\u001b[0m\n\u001b[1;32m    296\u001b[0m     \u001b[0mout\u001b[0m \u001b[0;34m=\u001b[0m \u001b[0mimg\u001b[0m \u001b[0;34m*\u001b[0m \u001b[0;36m255.0\u001b[0m\u001b[0;34m/\u001b[0m\u001b[0mimg\u001b[0m\u001b[0;34m.\u001b[0m\u001b[0mmax\u001b[0m\u001b[0;34m(\u001b[0m\u001b[0;34m)\u001b[0m \u001b[0;31m# normalize to 0...255\u001b[0m\u001b[0;34m\u001b[0m\u001b[0m\n\u001b[0;32m--> 297\u001b[0;31m     \u001b[0mout\u001b[0m \u001b[0;34m=\u001b[0m \u001b[0mout\u001b[0m\u001b[0;34m[\u001b[0m\u001b[0;34m:\u001b[0m\u001b[0;34m,\u001b[0m \u001b[0;34m:\u001b[0m\u001b[0;34m,\u001b[0m \u001b[0;34m[\u001b[0m\u001b[0;36m2\u001b[0m\u001b[0;34m,\u001b[0m\u001b[0;36m1\u001b[0m\u001b[0;34m,\u001b[0m\u001b[0;36m0\u001b[0m\u001b[0;34m]\u001b[0m\u001b[0;34m]\u001b[0m \u001b[0;31m# swap channel from RGB to BGR\u001b[0m\u001b[0;34m\u001b[0m\u001b[0m\n\u001b[0m\u001b[1;32m    298\u001b[0m     \u001b[0mout\u001b[0m \u001b[0;34m-=\u001b[0m \u001b[0mmean_rgb\u001b[0m\u001b[0;34m\u001b[0m\u001b[0m\n\u001b[1;32m    299\u001b[0m     \u001b[0mout\u001b[0m \u001b[0;34m=\u001b[0m \u001b[0mnp\u001b[0m\u001b[0;34m.\u001b[0m\u001b[0mtranspose\u001b[0m\u001b[0;34m(\u001b[0m\u001b[0mout\u001b[0m\u001b[0;34m,\u001b[0m \u001b[0;34m(\u001b[0m\u001b[0;36m2\u001b[0m\u001b[0;34m,\u001b[0m\u001b[0;36m0\u001b[0m\u001b[0;34m,\u001b[0m\u001b[0;36m1\u001b[0m\u001b[0;34m)\u001b[0m\u001b[0;34m)\u001b[0m \u001b[0;31m# return in format C x H x W\u001b[0m\u001b[0;34m\u001b[0m\u001b[0m\n",
      "\u001b[0;31mIndexError\u001b[0m: too many indices for array"
     ]
    }
   ],
   "source": [
    "src = df_train.iloc[85]['source']\n",
    "\n",
    "import skimage\n",
    "import caffe\n",
    "\n",
    "# img0 = caffe.io.load_image(src) \n",
    "img0 = skimage.io.imread(src)\n",
    "print img0.min(), img0.max()\n",
    "img1 = cu.preprocess_RGB_image(img0)\n",
    "img2 = cu.deprocess_RGB_image(img1)\n",
    "print img1.min(), img1.max()\n",
    "plt.subplot('121')\n",
    "plt.imshow(img0)\n",
    "plt.subplot('122')\n",
    "plt.imshow(img2)\n"
   ]
  },
  {
   "cell_type": "code",
   "execution_count": 60,
   "metadata": {
    "collapsed": false
   },
   "outputs": [
    {
     "data": {
      "text/plain": [
       "(454, 405)"
      ]
     },
     "execution_count": 60,
     "metadata": {},
     "output_type": "execute_result"
    }
   ],
   "source": [
    "img0.shape"
   ]
  },
  {
   "cell_type": "code",
   "execution_count": null,
   "metadata": {
    "collapsed": false
   },
   "outputs": [
    {
     "name": "stdout",
     "output_type": "stream",
     "text": [
      "/home/adalbert/data/urban-environments//leveldb/US_5km/test\n",
      "Saving 10572 records (of 100%): 0%"
     ]
    }
   ],
   "source": [
    "train_db_path = \"%s/leveldb/%s_%dkm/train\"%(inPath, city, scale)\n",
    "test_db_path = \"%s/leveldb/%s_%dkm/test\"%(inPath, city, scale)\n",
    "\n",
    "if not os.path.exists(train_db_path):\n",
    "    os.makedirs(train_db_path)\n",
    "    sourceList = map(lambda x: (x,), df_train['source'].values)\n",
    "    cu.save_images_to_leveldb(sourceList, train_db_path, imgSize=(96,96), preprocess=False)\n",
    "\n",
    "if not os.path.exists(test_db_path):\n",
    "    os.makedirs(test_db_path)\n",
    "    sourceList = map(lambda x: (x,), df_test['source'].values)\n",
    "    cu.save_images_to_leveldb(sourceList, test_db_path, imgSize=(96,96), preprocess=False)"
   ]
  },
  {
   "cell_type": "code",
   "execution_count": 48,
   "metadata": {
    "collapsed": false
   },
   "outputs": [],
   "source": [
    "X,Y = cu.read_from_leveldb(train_db_path, start=10, stop=20, float_data=True)"
   ]
  },
  {
   "cell_type": "code",
   "execution_count": 53,
   "metadata": {
    "collapsed": false
   },
   "outputs": [
    {
     "name": "stdout",
     "output_type": "stream",
     "text": [
      "0.0243902448152 1.0\n"
     ]
    },
    {
     "data": {
      "text/plain": [
       "<matplotlib.image.AxesImage at 0x7f0e820f2410>"
      ]
     },
     "execution_count": 53,
     "metadata": {},
     "output_type": "execute_result"
    },
    {
     "data": {
      "image/png": "[encoded data removed]",
      "text/plain": [
       "<matplotlib.figure.Figure at 0x7f0e7515f2d0>"
      ]
     },
     "metadata": {},
     "output_type": "display_data"
    }
   ],
   "source": [
    "x = X[8]\n",
    "x = x /x.max() \n",
    "\n",
    "print x.min(), x.max()\n",
    "plt.imshow(x.reshape((96,96,3)))\n",
    "# plt.imshow(x.reshape((256,256,3)))\n"
   ]
  },
  {
   "cell_type": "code",
   "execution_count": 55,
   "metadata": {
    "collapsed": false
   },
   "outputs": [
    {
     "data": {
      "text/plain": [
       "(27648,)"
      ]
     },
     "execution_count": 55,
     "metadata": {},
     "output_type": "execute_result"
    }
   ],
   "source": [
    "x.shape"
   ]
  },
  {
   "cell_type": "code",
   "execution_count": 56,
   "metadata": {
    "collapsed": false
   },
   "outputs": [
    {
     "data": {
      "text/plain": [
       "'/home/adalbert/data/urban-environments//leveldb/US_5km/train'"
      ]
     },
     "execution_count": 56,
     "metadata": {},
     "output_type": "execute_result"
    }
   ],
   "source": [
    "train_db_path"
   ]
  },
  {
   "cell_type": "code",
   "execution_count": null,
   "metadata": {
    "collapsed": true
   },
   "outputs": [],
   "source": []
  }
 ],
 "metadata": {
  "kernelspec": {
   "display_name": "Python 2",
   "language": "python",
   "name": "python2"
  },
  "language_info": {
   "codemirror_mode": {
    "name": "ipython",
    "version": 2
   },
   "file_extension": ".py",
   "mimetype": "text/x-python",
   "name": "python",
   "nbconvert_exporter": "python",
   "pygments_lexer": "ipython2",
   "version": "2.7.6"
  }
 },
 "nbformat": 4,
 "nbformat_minor": 2
}
