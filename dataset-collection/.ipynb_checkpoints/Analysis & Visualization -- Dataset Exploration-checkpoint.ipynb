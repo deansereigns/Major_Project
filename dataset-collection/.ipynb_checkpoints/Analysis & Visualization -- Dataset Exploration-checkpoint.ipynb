{
 "cells": [
  {
   "cell_type": "code",
   "execution_count": 1,
   "metadata": {
    "collapsed": false
   },
   "outputs": [],
   "source": [
    "import numpy as np\n",
    "import pandas as pd\n",
    "\n",
    "import sys, os, time\n",
    "import glob\n",
    "\n",
    "from matplotlib import pyplot as plt\n",
    "%matplotlib inline\n",
    "\n",
    "from IPython.display import clear_output\n",
    "\n",
    "# these magics ensure that external modules that are modified are also automatically reloaded\n",
    "%load_ext autoreload\n",
    "%autoreload 2"
   ]
  },
  {
   "cell_type": "code",
   "execution_count": 6,
   "metadata": {
    "collapsed": false
   },
   "outputs": [],
   "source": [
    "# for geospatial data\n",
    "import geopandas as gpd\n",
    "import shapely\n",
    "\n",
    "# for interactive plotting\n",
    "import mplleaflet\n",
    "import seaborn as sns\n"
   ]
  },
  {
   "cell_type": "markdown",
   "metadata": {},
   "source": [
    "# Set up data access"
   ]
  },
  {
   "cell_type": "code",
   "execution_count": 8,
   "metadata": {
    "collapsed": true
   },
   "outputs": [],
   "source": [
    "\n",
    "shapefilesDir = \"/home/adalbert/data/urban-environments/city-shapefiles/\"\n",
    "\n",
    "imgPath = \"/home/adalbert/data/urban-environments/\"\n"
   ]
  },
  {
   "cell_type": "code",
   "execution_count": 9,
   "metadata": {
    "collapsed": false
   },
   "outputs": [
    {
     "name": "stdout",
     "output_type": "stream",
     "text": [
      "{'beijing': '/home/adalbert/data/urban-environments/locations_beijing.csv', 'doha': '/home/adalbert/data/urban-environments/locations_doha.csv', 'riyadh': '/home/adalbert/data/urban-environments/locations_riyadh.csv', 'boston': '/home/adalbert/data/urban-environments/locations_boston.csv', 'US': '/home/adalbert/data/urban-environments/locations_US.csv', 'rio-de-janeiro': '/home/adalbert/data/urban-environments/locations_rio-de-janeiro.csv', 'mexico-city': '/home/adalbert/data/urban-environments/locations_mexico-city.csv', 'san-francisco-bay': '/home/adalbert/data/urban-environments/locations_san-francisco-bay.csv', 'los-angeles': '/home/adalbert/data/urban-environments/locations_los-angeles.csv'}\n"
     ]
    }
   ],
   "source": [
    "locationFiles = glob.glob(\"%s/locations_*.csv\"%imgPath)\n",
    "locationFiles = {os.path.basename(x).split(\"_\")[1].split(\".\")[0]:x for x in locationFiles}\n",
    "\n",
    "print locationFiles"
   ]
  },
  {
   "cell_type": "code",
   "execution_count": null,
   "metadata": {
    "collapsed": false
   },
   "outputs": [],
   "source": [
    "# gdf = gpd.read_file(shapefilesDir + \"boston/boston_massachusetts_osm_admin.shp\")\n",
    "gdf = gpd.read_file(shapefilesDir + \"san-francisco-bay/san-francisco-bay_california_osm_admin.shp\")\n"
   ]
  },
  {
   "cell_type": "markdown",
   "metadata": {},
   "source": [
    "Function to gather info on image samples"
   ]
  },
  {
   "cell_type": "code",
   "execution_count": null,
   "metadata": {
    "collapsed": false
   },
   "outputs": [],
   "source": [
    "def read_info(imgPath, city):\n",
    "    \n",
    "    # read in geographic locations of samples\n",
    "    locations = pd.read_csv(\"%s/locations_%s.csv\"%(imgPath, city)).rename(columns={\"Unnamed: 0\":\"id\"})\n",
    "    \n",
    "    # read in info on image files\n",
    "    imgFiles = glob.glob(\"%s/samples/%s/*/*.jpg\"%(imgPath, city)) + \\\n",
    "                glob.glob(\"%s/samples/%s/*/*.png\"%(imgPath, city))    \n",
    "    df = pd.DataFrame([(int(f.split(\"/\")[-2]),os.path.basename(f).split(\"_\")[0],f) for f in imgFiles], \\\n",
    "                      columns=[\"sample ID\", \"source\", \"filename\"])\n",
    "    df.set_index(\"sample ID\", inplace=True)\n",
    "    df = df.pivot(columns=\"source\")\n",
    "    df.columns = df.columns.droplevel(0)\n",
    "    df = df.reset_index()\n",
    "    \n",
    "    # read in low-res pixel data (nightlights, population)\n",
    "    valFiles = glob.glob(\"%s/samples/%s/*/pixel_data.csv\"%(imgPath, city))\n",
    "    valuesDf = pd.DataFrame([pd.read_csv(f).to_dict(\"records\")[0] for f in valFiles])\n",
    "    valuesDf.set_index(\"sample ID\", inplace=True)\n",
    "\n",
    "    print \"There are %d missing values for population.\"%(valuesDf['population value']<0).sum()\n",
    "\n",
    "    # convert nightlights values to low/medium/high according to the poverty mapping paper\n",
    "    valuesDf['nightlight class'] = valuesDf['nightlight value'].apply(lambda x: 0 if x < 3 else 1 if x < 34 else 2)\n",
    "\n",
    "    # merge dataframes\n",
    "    valuesDf = pd.merge(valuesDf.reset_index(), df, on=\"sample ID\")\n",
    "    valuesDf.set_index(\"sample ID\", inplace=True)\n",
    "    valuesDf.sort_index(inplace=True)\n",
    "    \n",
    "    return valuesDf"
   ]
  },
  {
   "cell_type": "code",
   "execution_count": null,
   "metadata": {
    "collapsed": false
   },
   "outputs": [],
   "source": [
    "valuesDF = read_info(imgPath, \"san-francisco-bay\")\n",
    "\n",
    "# convert to geopandas and make each location into a shapely Point\n",
    "valuesDF = gpd.GeoDataFrame(valuesDF, geometry=valuesDF.apply(\n",
    "        lambda srs: shapely.geometry.Point(srs['img lon'], srs['img lat']), axis='columns'\n",
    "    ))\n",
    "\n",
    "valuesDF.head()"
   ]
  },
  {
   "cell_type": "markdown",
   "metadata": {},
   "source": [
    "Function to plot locations on a map"
   ]
  },
  {
   "cell_type": "code",
   "execution_count": null,
   "metadata": {
    "collapsed": false
   },
   "outputs": [],
   "source": [
    "# plot density of samples\n",
    "\n",
    "f = plt.figure(figsize=(8, 4))\n",
    "ax = f.gca()\n",
    "\n",
    "valuesDF.plot(ax=ax, alpha=0.1, linewidth=0.25, color='white')\n",
    "sns.kdeplot(data=valuesDF.apply(lambda srs: pd.Series({'x': srs.geometry.x, 'y': srs.geometry.y}), axis='columns'), ax=ax,\n",
    "            alpha=1)\n",
    "ax.set_axis_off()\n"
   ]
  },
  {
   "cell_type": "code",
   "execution_count": null,
   "metadata": {
    "collapsed": false
   },
   "outputs": [],
   "source": [
    "# plot nightlights density contours\n",
    "\n",
    "f = plt.figure(figsize=(10, 6))\n",
    "ax = f.gca()\n",
    "gdf.plot(ax=ax, alpha=0)\n",
    "kw = dict(column='population value', k=6, cmap='YlGn', alpha=1, legend=True, linewidth=0.5)\n",
    "valuesDF.plot(scheme='QUANTILES', ax=ax, **kw)\n",
    "ax.set_axis_off()\n",
    "ax.set_title(\"Population Density\")"
   ]
  },
  {
   "cell_type": "code",
   "execution_count": null,
   "metadata": {
    "collapsed": false
   },
   "outputs": [],
   "source": [
    "idx = np.random.choice(len(valuesDF), 500)\n",
    "\n",
    "f = plt.figure(figsize=(15, 8))\n",
    "ax = f.gca()\n",
    "ax.scatter(valuesDF['img lon'][idx], valuesDF['img lat'][idx])\n",
    "gdf.plot(ax=ax)\n",
    "mplleaflet.display(fig=f)"
   ]
  },
  {
   "cell_type": "markdown",
   "metadata": {},
   "source": [
    "Plot a list of image thumbnails on a canvas"
   ]
  },
  {
   "cell_type": "code",
   "execution_count": null,
   "metadata": {
    "collapsed": true
   },
   "outputs": [],
   "source": [
    "def plot_canvas(data, cmap=\"jet\", gridSize=None, normalize=False):\n",
    "    \"\"\"Take an array of shape (n, height, width) or (n, height, width, 3)\n",
    "       and visualize each (height, width) thing in a grid of size approx. sqrt(n) by sqrt(n)\"\"\"\n",
    "    \n",
    "    # normalize data for display\n",
    "    if normalize:\n",
    "        data = (data - data.min()) / (data.max() - data.min())\n",
    "    \n",
    "    # force the number of filters to be square\n",
    "    if gridSize is None:\n",
    "        n = int(np.ceil(np.sqrt(data.shape[0])))\n",
    "        m = n\n",
    "    else:\n",
    "        n,m = gridSize\n",
    "        \n",
    "    padding = (((0, n*m - data.shape[0]),\n",
    "               (0, 1), (0, 1))                 # add some space between filters\n",
    "               + ((0, 0),) * (data.ndim - 3))  # don't pad the last dimension (if there is one)\n",
    "    data = np.pad(data, padding, mode='constant', constant_values=1)  # pad with ones (white)\n",
    "    \n",
    "    # tile the filters into an image\n",
    "    data = data.reshape((n, m) + data.shape[1:]).transpose((0, 2, 1, 3) + tuple(range(4, data.ndim + 1)))\n",
    "    data = data.reshape((n * data.shape[1], m * data.shape[3]) + data.shape[4:])\n",
    "    \n",
    "    plt.imshow(data, cmap=cmap); plt.axis('off')"
   ]
  },
  {
   "cell_type": "markdown",
   "metadata": {},
   "source": [
    "Function to plot samples on each row"
   ]
  },
  {
   "cell_type": "code",
   "execution_count": null,
   "metadata": {
    "collapsed": true
   },
   "outputs": [],
   "source": [
    "import matplotlib.gridspec as gridspec\n",
    "from scipy.misc import imread\n",
    "import skimage\n",
    "\n",
    "def plot_sample(rows, gdf=None, cols=[\"nightlights\", \"population\", \"googlemaps\"]):\n",
    "    # read in data\n",
    "    nRows = len(rows)\n",
    "    nCols = len(cols) if gdf is None else len(cols)+1\n",
    "    clear_output(wait=True)\n",
    "    gs1 = gridspec.GridSpec(nRows, nCols)\n",
    "    gs1.update(wspace=0.05, hspace=0.05) # set the spacing between axes. \n",
    "    axes = np.array([[plt.subplot(gs1[i*nCols+j]) for j in range(nCols)] for i in range(nRows)])\n",
    "    \n",
    "    for ax in axes.flatten():\n",
    "        ax.set_xticklabels([])\n",
    "        ax.set_yticklabels([])\n",
    "        ax.grid(False)\n",
    "\n",
    "    cols1 = cols if gdf is None else cols+[\"location\"]\n",
    "    for ax, c in zip(axes[0], cols1):\n",
    "        ax.set_title(c, fontsize=16)\n",
    "    \n",
    "    for ax, i in zip(axes[:,0], rows.index):\n",
    "        ax.set_ylabel(\"%s\"%i, rotation=0, size='large', labelpad=20)\n",
    "\n",
    "    # plot grid of images\n",
    "    for i,c in enumerate(cols):\n",
    "        for j,(idx,r) in enumerate(rows.iterrows()):\n",
    "            img = imread(r[c])\n",
    "            axes[j,i].imshow(img)\n",
    "            \n",
    "    # plot geographical location on last column\n",
    "    if gdf is not None:\n",
    "        for i in range(nRows):\n",
    "            gdf.plot(ax=axes[i,-1])\n",
    "            axes[i,-1].scatter(rows.iloc[i]['img lon'], rows.iloc[i]['img lat'])\n",
    "    plt.show()"
   ]
  },
  {
   "cell_type": "code",
   "execution_count": null,
   "metadata": {
    "collapsed": false
   },
   "outputs": [],
   "source": [
    "plt.figure(figsize=(12,8))\n",
    "plot_sample(pd.DataFrame(valuesDF.iloc[[1,2]]))"
   ]
  },
  {
   "cell_type": "code",
   "execution_count": null,
   "metadata": {
    "collapsed": true
   },
   "outputs": [],
   "source": [
    "# import matplotlib.gridspec as gridspec\n",
    "# from scipy.misc import imread\n",
    "# import skimage\n",
    "\n",
    "# def read_sample_canvas(rows, cols=[\"nightlights\", \"population\", \"googlemaps\"], res=(400,400)):\n",
    "#     # read in data\n",
    "#     nRows = len(rows)\n",
    "#     nCols = len(cols)\n",
    "#     data = np.zeros((nRows*nCols,) + res + (3,))\n",
    "#     for i,(idx,r) in enumerate(rows.iterrows()):\n",
    "#         for j,c in enumerate(cols):\n",
    "#             img = imread(r[c])\n",
    "#             if len(img.shape)==2 or img.shape[2] == 1:\n",
    "#                 img = np.round((img.astype(float) / img.max() * 255))\n",
    "#                 img = skimage.color.gray2rgb(img)\n",
    "#             img = skimage.transform.resize(img, res, mode=\"wrap\")\n",
    "#             data[i*nCols+j] = img\n",
    "#     return data\n",
    "\n",
    "# # this gives some weird looking results when upsampling is too extreme (for nightlights and population images)\n",
    "\n",
    "# canvas = read_sample_canvas(valuesDF[:2])\n",
    "# plot_canvas(canvas, gridSize=(2,3))"
   ]
  },
  {
   "cell_type": "markdown",
   "metadata": {},
   "source": [
    "# Set up interactive plots"
   ]
  },
  {
   "cell_type": "code",
   "execution_count": null,
   "metadata": {
    "collapsed": false
   },
   "outputs": [],
   "source": [
    "from IPython.html import widgets\n",
    "from IPython.display import display"
   ]
  },
  {
   "cell_type": "code",
   "execution_count": null,
   "metadata": {
    "collapsed": false
   },
   "outputs": [],
   "source": [
    "valDF = read_info(imgPath,\"boston\")\n",
    "\n",
    "# dropdown to change city\n",
    "def func_change_city(change):\n",
    "    global valDF\n",
    "    if change['type'] == 'change' and change['name'] == 'value':\n",
    "        city = change['new']\n",
    "        print \"Reading in data for %s\"%city\n",
    "        valDF = read_info(imgPath,city)\n",
    "        textWidget.value = \"0,1,2\"\n",
    "        func(btn)\n",
    "\n",
    "cityWidget = widgets.Dropdown(description=\"City: \", options=locationFiles.keys(), value=\"boston\")\n",
    "cityWidget.observe(func_change_city)\n",
    "\n",
    "# textbox to plot specific samples (if empty, will plot 3 random samples)\n",
    "textWidget = widgets.Text()\n",
    "textWidget.value = \"0,1,2\"\n",
    "\n",
    "# plot button \n",
    "def func(btn):\n",
    "    clear_output(wait=True)\n",
    "    plt.figure(figsize=(8,8))\n",
    "    if len(textWidget.value)>0:\n",
    "        idx = [int(i) for i in textWidget.value.split(\",\")]\n",
    "    else:\n",
    "        idx = np.random.choice(valDF.index, 3)\n",
    "    plot_sample(valDF.ix[idx])\n",
    "\n",
    "btn = widgets.Button(description=\"Plot sample\")\n",
    "btn.on_click(func)\n",
    "\n",
    "# tab containers\n",
    "page1 = widgets.Box(children=[cityWidget])\n",
    "page2 = widgets.Box(children=[textWidget, btn])\n",
    "tabs  = widgets.Tab(children=[page1, page2])\n",
    "tabs.set_title(0, 'Geography')\n",
    "tabs.set_title(1, 'Samples')"
   ]
  },
  {
   "cell_type": "code",
   "execution_count": null,
   "metadata": {
    "collapsed": false
   },
   "outputs": [],
   "source": [
    "display(tabs)"
   ]
  },
  {
   "cell_type": "code",
   "execution_count": null,
   "metadata": {
    "collapsed": false
   },
   "outputs": [],
   "source": [
    "plt.imshow(imread(valDF.iloc[400][\"googlemaps\"]))\n",
    "plt.axis(\"off\")"
   ]
  },
  {
   "cell_type": "code",
   "execution_count": null,
   "metadata": {
    "collapsed": false
   },
   "outputs": [],
   "source": [
    "1"
   ]
  },
  {
   "cell_type": "code",
   "execution_count": null,
   "metadata": {
    "collapsed": false
   },
   "outputs": [],
   "source": [
    "pd.DataFrame(np.random.sample((5,2)), columns=[\"economic score\", \"light use score\"])\\\n",
    "    .sort_values(\"light use score\", ascending=False).round(3)"
   ]
  }
 ],
 "metadata": {
  "kernelspec": {
   "display_name": "Python 2",
   "language": "python",
   "name": "python2"
  },
  "language_info": {
   "codemirror_mode": {
    "name": "ipython",
    "version": 2
   },
   "file_extension": ".py",
   "mimetype": "text/x-python",
   "name": "python",
   "nbconvert_exporter": "python",
   "pygments_lexer": "ipython2",
   "version": "2.7.6"
  }
 },
 "nbformat": 4,
 "nbformat_minor": 1
}
