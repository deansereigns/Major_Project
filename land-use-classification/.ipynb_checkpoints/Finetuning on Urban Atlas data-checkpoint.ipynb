{
 "cells": [
  {
   "cell_type": "code",
   "execution_count": 33,
   "metadata": {
    "collapsed": false
   },
   "outputs": [
    {
     "name": "stdout",
     "output_type": "stream",
     "text": [
      "The autoreload extension is already loaded. To reload it, use:\n",
      "  %reload_ext autoreload\n"
     ]
    }
   ],
   "source": [
    "# Import several packages that will be used throughout\n",
    "\n",
    "# numeric packages\n",
    "import numpy as np\n",
    "import scipy\n",
    "import scipy.io\n",
    "import pandas as pd\n",
    "\n",
    "import h5py\n",
    "import cPickle as pickle\n",
    "import gzip\n",
    "\n",
    "# filesystem and OS\n",
    "import sys, os, time\n",
    "import glob\n",
    "\n",
    "# plotting\n",
    "from matplotlib import pyplot as plt\n",
    "%matplotlib inline\n",
    "import seaborn as sns\n",
    "sns.set_style(\"whitegrid\", {'axes.grid' : False})\n",
    "from IPython.display import clear_output\n",
    "\n",
    "import warnings\n",
    "warnings.filterwarnings('ignore')\n",
    "\n",
    "import keras\n",
    "from keras import backend as K\n",
    "\n",
    "sys.path.append(\"../keras-utils/\")\n",
    "sys.path.append(\"../keras-models/\")\n",
    "import keras_utils as ku\n",
    "from multi_gpu import make_parallel\n",
    "\n",
    "# these magics ensure that external modules that are modified are also automatically reloaded\n",
    "%load_ext autoreload\n",
    "%autoreload 2"
   ]
  },
  {
   "cell_type": "code",
   "execution_count": 14,
   "metadata": {
    "collapsed": false,
    "scrolled": true
   },
   "outputs": [],
   "source": [
    "workdir = \"/home/adalbert/nbserver/tf-workspace/urban-atlas-experiments/\"\n",
    "\n",
    "if not os.path.exists(workdir):\n",
    "    os.makedirs(workdir)\n",
    "    \n",
    "os.chdir(workdir)"
   ]
  },
  {
   "cell_type": "code",
   "execution_count": 15,
   "metadata": {
    "collapsed": false,
    "scrolled": true
   },
   "outputs": [
    {
     "name": "stdout",
     "output_type": "stream",
     "text": [
      "20\n"
     ]
    }
   ],
   "source": [
    "all_classes = '''Agricultural + Semi-natural areas + Wetlands\n",
    "Airports\n",
    "Construction sites\n",
    "Continuous Urban Fabric (S.L. > 80%)\n",
    "Discontinuous Dense Urban Fabric (S.L. : 50% -  80%)\n",
    "Discontinuous Low Density Urban Fabric (S.L. : 10% - 30%)\n",
    "Discontinuous Medium Density Urban Fabric (S.L. : 30% - 50%)\n",
    "Discontinuous Very Low Density Urban Fabric (S.L. < 10%)\n",
    "Fast transit roads and associated land\n",
    "Forests\n",
    "Green urban areas\n",
    "Industrial, commercial, public, military and private units\n",
    "Isolated Structures\n",
    "Land without current use\n",
    "Mineral extraction and dump sites\n",
    "Other roads and associated land\n",
    "Port areas\n",
    "Railways and associated land\n",
    "Sports and leisure facilities\n",
    "Water bodies'''.split(\"\\n\")\n",
    "\n",
    "classes = all_classes\n",
    "print len(classes)\n",
    "\n",
    "class2label = {c:i for i,c in enumerate(classes)}\n",
    "label2class = {i:c for i,c in enumerate(classes)}\n",
    "class_weights = {c:1 for c in label2class.keys()}\n",
    "\n",
    "N_CLASSES = len(classes)\n",
    "\n",
    "# list of cities to study\n",
    "\n",
    "all_cities = [\"bucuresti\", \"berlin\", \"barcelona\", \"paris\", \"athina\", \\\n",
    "              \"firenze\", \"dublin\", \"london\", \"tallinn\", \"bremen\"]"
   ]
  },
  {
   "cell_type": "markdown",
   "metadata": {},
   "source": [
    "# Set up data sources "
   ]
  },
  {
   "cell_type": "code",
   "execution_count": 16,
   "metadata": {
    "collapsed": true
   },
   "outputs": [],
   "source": [
    "train_dir = \"/home/adalbert/data/urban-atlas/extracted-data/\""
   ]
  },
  {
   "cell_type": "code",
   "execution_count": 17,
   "metadata": {
    "collapsed": false,
    "scrolled": true
   },
   "outputs": [],
   "source": [
    "def load_data_sources(cities):\n",
    "\n",
    "    # load paths to source images\n",
    "\n",
    "    files = np.array([f for c in cities for f in glob.glob(train_dir + \"%s/img/*/*.jpg\"%c)])\n",
    "    files_df =  pd.DataFrame(files).rename(columns={0:\"filename\"})\n",
    "    files_df['class'] = files_df['filename'].apply(lambda x: x.split(\"/\")[-2])\n",
    "    files_df['city'] = files_df['filename'].apply(lambda x: x.split(\"/\")[-4])\n",
    "    files_df['phase'] = files_df['filename'].apply(lambda x: \"validation\" if \"grid\" in x else \"training\")\n",
    "\n",
    "    # consolidate classes to work with\n",
    "\n",
    "    consolidate_classes = {\n",
    "        \"Continuous Urban Fabric (S.L. > 80%)\":\"High Density Urban Fabric\",\n",
    "         \"Discontinuous Dense Urban Fabric (S.L. : 50% -  80%)\":\"High Density Urban Fabric\",\n",
    "         \"Discontinuous Medium Density Urban Fabric (S.L. : 30% - 50%)\":\"Medium Density Urban Fabric\",\n",
    "         \"Discontinuous Low Density Urban Fabric (S.L. : 10% - 30%)\":\"Low Density Urban Fabric\",\n",
    "         \"Discontinuous Very Low Density Urban Fabric (S.L. < 10%)\":\"Low Density Urban Fabric\"\n",
    "    }\n",
    "    files_df['class'] = files_df['class'].apply(\n",
    "        lambda x: consolidate_classes[x] if x in consolidate_classes else x)\n",
    "\n",
    "    # TODO!!!\n",
    "    # there is a bug here -- the high density urban fabric is not included (because of the 'continuous' below)!!\n",
    "    # another bug: medium density does not exist!\n",
    "    include_classes = [\"Green urban areas\", \n",
    "                       \"Airports\",\n",
    "                       \"Forests\",\n",
    "                       \"Agricultural + Semi-natural areas + Wetlands\",\n",
    "                       # \"Railways and associated land\",\n",
    "                       \"High Density Urban Fabric\", \n",
    "                        #\"Mineral extraction and dump sites\",\n",
    "                       \"Medium Density Urban Fabric\", \n",
    "                       \"Low Density Urban Fabric\",\n",
    "                       \"Water bodies\",\n",
    "                       \"Sports and leisure facilities\",\n",
    "                       \"Industrial, commercial, public, military and private units\"]\n",
    "    files_df = files_df[files_df['class'].isin(include_classes)]\n",
    "\n",
    "    return files_df"
   ]
  },
  {
   "cell_type": "code",
   "execution_count": 18,
   "metadata": {
    "collapsed": false
   },
   "outputs": [
    {
     "name": "stdout",
     "output_type": "stream",
     "text": [
      "10\n"
     ]
    }
   ],
   "source": [
    "cities = [\"athina\", \"berlin\", \"budapest\", \"roma\", \"barcelona\",\n",
    "         \"eindhoven\", \"london\", \"belfast\", \"bremen\", \"madrid\"]\n",
    "\n",
    "files_df = load_data_sources(cities)\n",
    "\n",
    "# update classes dictionary if needed\n",
    "\n",
    "classes = files_df['class'].unique()\n",
    "classes.sort()\n",
    "class2label = {c:i for i,c in enumerate(classes)}\n",
    "label2class = {i:c for i,c in enumerate(classes)}\n",
    "N_CLASSES = len(classes)\n",
    "print N_CLASSES\n",
    "\n",
    "with gzip.open(\"classes.pickle.gz\", \"w\") as f:\n",
    "    pickle.dump({\"class2label\":class2label, \"label2class\":label2class}, f)\n",
    "\n",
    "# class_weights = get_class_weights(files_df['class'].apply(lambda x: class2label[x]))\n",
    "class_weights = {i:1 for i in range(N_CLASSES)}"
   ]
  },
  {
   "cell_type": "code",
   "execution_count": 19,
   "metadata": {
    "collapsed": false,
    "scrolled": true
   },
   "outputs": [],
   "source": [
    "stats_train = pd.DataFrame(files_df[files_df.phase==\"training\"].groupby([\"city\", \"class\"]).apply(len))\\\n",
    "                    .reset_index()\\\n",
    "                    .rename(columns={0:\"count\"})\n",
    "stats_train = stats_train.pivot(columns=\"city\", index=\"class\")\n",
    "stats_train = stats_train.fillna(0).astype(int)\n",
    "stats_train.columns = stats_train.columns.droplevel(0)\n",
    "# add in row and column total sums\n",
    "stats_train['class total'] = stats_train.sum(1)\n",
    "newidx = stats_train.index.values.tolist() + [\"city total\"]\n",
    "stats_train = stats_train.append(stats_train.sum(0), ignore_index=True)\n",
    "stats_train.index = newidx\n",
    "\n",
    "stats_train.to_latex(\"samples_stats_train.tex\")\n",
    "\n",
    "stats_valid = pd.DataFrame(files_df[files_df.phase==\"validation\"].groupby([\"city\", \"class\"]).apply(len))\\\n",
    "                    .reset_index()\\\n",
    "                    .rename(columns={0:\"count\"})\n",
    "stats_valid = stats_valid.pivot(columns=\"city\", index=\"class\")\n",
    "stats_valid = stats_valid.fillna(0).astype(int)\n",
    "stats_valid.columns = stats_valid.columns.droplevel(0)\n",
    "# add in row and column total sums\n",
    "stats_valid['total-class'] = stats_valid.sum(1)\n",
    "newidx = stats_valid.index.values.tolist() + [\"total-city\"]\n",
    "stats_valid = stats_valid.append(stats_valid.sum(0), ignore_index=True)\n",
    "stats_valid.index = newidx\n",
    "\n",
    "stats_valid.to_latex(\"samples_stats_valid.tex\")"
   ]
  },
  {
   "cell_type": "code",
   "execution_count": 20,
   "metadata": {
    "collapsed": false
   },
   "outputs": [
    {
     "data": {
      "text/html": [
       "<div>\n",
       "<table border=\"1\" class=\"dataframe\">\n",
       "  <thead>\n",
       "    <tr style=\"text-align: right;\">\n",
       "      <th>city</th>\n",
       "      <th>athina</th>\n",
       "      <th>barcelona</th>\n",
       "      <th>berlin</th>\n",
       "      <th>budapest</th>\n",
       "      <th>madrid</th>\n",
       "      <th>roma</th>\n",
       "      <th>class total</th>\n",
       "    </tr>\n",
       "  </thead>\n",
       "  <tbody>\n",
       "    <tr>\n",
       "      <th>Agricultural + Semi-natural areas + Wetlands</th>\n",
       "      <td>4347</td>\n",
       "      <td>2987</td>\n",
       "      <td>7602</td>\n",
       "      <td>2211</td>\n",
       "      <td>2994</td>\n",
       "      <td>4043</td>\n",
       "      <td>24184</td>\n",
       "    </tr>\n",
       "    <tr>\n",
       "      <th>Airports</th>\n",
       "      <td>382</td>\n",
       "      <td>452</td>\n",
       "      <td>232</td>\n",
       "      <td>138</td>\n",
       "      <td>0</td>\n",
       "      <td>142</td>\n",
       "      <td>1346</td>\n",
       "    </tr>\n",
       "    <tr>\n",
       "      <th>Forests</th>\n",
       "      <td>1806</td>\n",
       "      <td>2438</td>\n",
       "      <td>7397</td>\n",
       "      <td>1550</td>\n",
       "      <td>0</td>\n",
       "      <td>2057</td>\n",
       "      <td>15248</td>\n",
       "    </tr>\n",
       "    <tr>\n",
       "      <th>Green urban areas</th>\n",
       "      <td>990</td>\n",
       "      <td>722</td>\n",
       "      <td>1840</td>\n",
       "      <td>1342</td>\n",
       "      <td>0</td>\n",
       "      <td>1401</td>\n",
       "      <td>6295</td>\n",
       "    </tr>\n",
       "    <tr>\n",
       "      <th>High Density Urban Fabric</th>\n",
       "      <td>967</td>\n",
       "      <td>996</td>\n",
       "      <td>8975</td>\n",
       "      <td>6993</td>\n",
       "      <td>0</td>\n",
       "      <td>3103</td>\n",
       "      <td>21034</td>\n",
       "    </tr>\n",
       "    <tr>\n",
       "      <th>Industrial, commercial, public, military and private units</th>\n",
       "      <td>1887</td>\n",
       "      <td>2116</td>\n",
       "      <td>4761</td>\n",
       "      <td>1850</td>\n",
       "      <td>0</td>\n",
       "      <td>2334</td>\n",
       "      <td>12948</td>\n",
       "    </tr>\n",
       "    <tr>\n",
       "      <th>Low Density Urban Fabric</th>\n",
       "      <td>1424</td>\n",
       "      <td>1520</td>\n",
       "      <td>2144</td>\n",
       "      <td>575</td>\n",
       "      <td>0</td>\n",
       "      <td>3689</td>\n",
       "      <td>9352</td>\n",
       "    </tr>\n",
       "    <tr>\n",
       "      <th>Medium Density Urban Fabric</th>\n",
       "      <td>2144</td>\n",
       "      <td>1128</td>\n",
       "      <td>6124</td>\n",
       "      <td>1661</td>\n",
       "      <td>0</td>\n",
       "      <td>2100</td>\n",
       "      <td>13157</td>\n",
       "    </tr>\n",
       "    <tr>\n",
       "      <th>Sports and leisure facilities</th>\n",
       "      <td>750</td>\n",
       "      <td>1185</td>\n",
       "      <td>2268</td>\n",
       "      <td>1305</td>\n",
       "      <td>0</td>\n",
       "      <td>1336</td>\n",
       "      <td>6844</td>\n",
       "    </tr>\n",
       "    <tr>\n",
       "      <th>Water bodies</th>\n",
       "      <td>537</td>\n",
       "      <td>408</td>\n",
       "      <td>1919</td>\n",
       "      <td>807</td>\n",
       "      <td>0</td>\n",
       "      <td>619</td>\n",
       "      <td>4290</td>\n",
       "    </tr>\n",
       "    <tr>\n",
       "      <th>city total</th>\n",
       "      <td>15234</td>\n",
       "      <td>13952</td>\n",
       "      <td>43262</td>\n",
       "      <td>18432</td>\n",
       "      <td>2994</td>\n",
       "      <td>20824</td>\n",
       "      <td>114698</td>\n",
       "    </tr>\n",
       "  </tbody>\n",
       "</table>\n",
       "</div>"
      ],
      "text/plain": [
       "city                                                athina  barcelona  berlin  \\\n",
       "Agricultural + Semi-natural areas + Wetlands          4347       2987    7602   \n",
       "Airports                                               382        452     232   \n",
       "Forests                                               1806       2438    7397   \n",
       "Green urban areas                                      990        722    1840   \n",
       "High Density Urban Fabric                              967        996    8975   \n",
       "Industrial, commercial, public, military and pr...    1887       2116    4761   \n",
       "Low Density Urban Fabric                              1424       1520    2144   \n",
       "Medium Density Urban Fabric                           2144       1128    6124   \n",
       "Sports and leisure facilities                          750       1185    2268   \n",
       "Water bodies                                           537        408    1919   \n",
       "city total                                           15234      13952   43262   \n",
       "\n",
       "city                                                budapest  madrid   roma  \\\n",
       "Agricultural + Semi-natural areas + Wetlands            2211    2994   4043   \n",
       "Airports                                                 138       0    142   \n",
       "Forests                                                 1550       0   2057   \n",
       "Green urban areas                                       1342       0   1401   \n",
       "High Density Urban Fabric                               6993       0   3103   \n",
       "Industrial, commercial, public, military and pr...      1850       0   2334   \n",
       "Low Density Urban Fabric                                 575       0   3689   \n",
       "Medium Density Urban Fabric                             1661       0   2100   \n",
       "Sports and leisure facilities                           1305       0   1336   \n",
       "Water bodies                                             807       0    619   \n",
       "city total                                             18432    2994  20824   \n",
       "\n",
       "city                                                class total  \n",
       "Agricultural + Semi-natural areas + Wetlands              24184  \n",
       "Airports                                                   1346  \n",
       "Forests                                                   15248  \n",
       "Green urban areas                                          6295  \n",
       "High Density Urban Fabric                                 21034  \n",
       "Industrial, commercial, public, military and pr...        12948  \n",
       "Low Density Urban Fabric                                   9352  \n",
       "Medium Density Urban Fabric                               13157  \n",
       "Sports and leisure facilities                              6844  \n",
       "Water bodies                                               4290  \n",
       "city total                                               114698  "
      ]
     },
     "execution_count": 20,
     "metadata": {},
     "output_type": "execute_result"
    }
   ],
   "source": [
    "stats_train"
   ]
  },
  {
   "cell_type": "code",
   "execution_count": 21,
   "metadata": {
    "collapsed": false
   },
   "outputs": [
    {
     "data": {
      "text/html": [
       "<div>\n",
       "<table border=\"1\" class=\"dataframe\">\n",
       "  <thead>\n",
       "    <tr style=\"text-align: right;\">\n",
       "      <th>city</th>\n",
       "      <th>athina</th>\n",
       "      <th>barcelona</th>\n",
       "      <th>berlin</th>\n",
       "      <th>total-class</th>\n",
       "    </tr>\n",
       "  </thead>\n",
       "  <tbody>\n",
       "    <tr>\n",
       "      <th>Agricultural + Semi-natural areas + Wetlands</th>\n",
       "      <td>2927</td>\n",
       "      <td>1411</td>\n",
       "      <td>1027</td>\n",
       "      <td>5365</td>\n",
       "    </tr>\n",
       "    <tr>\n",
       "      <th>Airports</th>\n",
       "      <td>27</td>\n",
       "      <td>165</td>\n",
       "      <td>130</td>\n",
       "      <td>322</td>\n",
       "    </tr>\n",
       "    <tr>\n",
       "      <th>Forests</th>\n",
       "      <td>261</td>\n",
       "      <td>1038</td>\n",
       "      <td>846</td>\n",
       "      <td>2145</td>\n",
       "    </tr>\n",
       "    <tr>\n",
       "      <th>Green urban areas</th>\n",
       "      <td>316</td>\n",
       "      <td>163</td>\n",
       "      <td>698</td>\n",
       "      <td>1177</td>\n",
       "    </tr>\n",
       "    <tr>\n",
       "      <th>High Density Urban Fabric</th>\n",
       "      <td>3258</td>\n",
       "      <td>1175</td>\n",
       "      <td>2760</td>\n",
       "      <td>7193</td>\n",
       "    </tr>\n",
       "    <tr>\n",
       "      <th>Industrial, commercial, public, military and private units</th>\n",
       "      <td>913</td>\n",
       "      <td>866</td>\n",
       "      <td>1841</td>\n",
       "      <td>3620</td>\n",
       "    </tr>\n",
       "    <tr>\n",
       "      <th>Low Density Urban Fabric</th>\n",
       "      <td>135</td>\n",
       "      <td>240</td>\n",
       "      <td>116</td>\n",
       "      <td>491</td>\n",
       "    </tr>\n",
       "    <tr>\n",
       "      <th>Medium Density Urban Fabric</th>\n",
       "      <td>343</td>\n",
       "      <td>134</td>\n",
       "      <td>1257</td>\n",
       "      <td>1734</td>\n",
       "    </tr>\n",
       "    <tr>\n",
       "      <th>Sports and leisure facilities</th>\n",
       "      <td>145</td>\n",
       "      <td>185</td>\n",
       "      <td>778</td>\n",
       "      <td>1108</td>\n",
       "    </tr>\n",
       "    <tr>\n",
       "      <th>Water bodies</th>\n",
       "      <td>46</td>\n",
       "      <td>35</td>\n",
       "      <td>256</td>\n",
       "      <td>337</td>\n",
       "    </tr>\n",
       "    <tr>\n",
       "      <th>total-city</th>\n",
       "      <td>8371</td>\n",
       "      <td>5412</td>\n",
       "      <td>9709</td>\n",
       "      <td>23492</td>\n",
       "    </tr>\n",
       "  </tbody>\n",
       "</table>\n",
       "</div>"
      ],
      "text/plain": [
       "city                                                athina  barcelona  berlin  \\\n",
       "Agricultural + Semi-natural areas + Wetlands          2927       1411    1027   \n",
       "Airports                                                27        165     130   \n",
       "Forests                                                261       1038     846   \n",
       "Green urban areas                                      316        163     698   \n",
       "High Density Urban Fabric                             3258       1175    2760   \n",
       "Industrial, commercial, public, military and pr...     913        866    1841   \n",
       "Low Density Urban Fabric                               135        240     116   \n",
       "Medium Density Urban Fabric                            343        134    1257   \n",
       "Sports and leisure facilities                          145        185     778   \n",
       "Water bodies                                            46         35     256   \n",
       "total-city                                            8371       5412    9709   \n",
       "\n",
       "city                                                total-class  \n",
       "Agricultural + Semi-natural areas + Wetlands               5365  \n",
       "Airports                                                    322  \n",
       "Forests                                                    2145  \n",
       "Green urban areas                                          1177  \n",
       "High Density Urban Fabric                                  7193  \n",
       "Industrial, commercial, public, military and pr...         3620  \n",
       "Low Density Urban Fabric                                    491  \n",
       "Medium Density Urban Fabric                                1734  \n",
       "Sports and leisure facilities                              1108  \n",
       "Water bodies                                                337  \n",
       "total-city                                                23492  "
      ]
     },
     "execution_count": 21,
     "metadata": {},
     "output_type": "execute_result"
    }
   ],
   "source": [
    "stats_valid"
   ]
  },
  {
   "cell_type": "markdown",
   "metadata": {},
   "source": [
    "### Split into train & test"
   ]
  },
  {
   "cell_type": "code",
   "execution_count": 22,
   "metadata": {
    "collapsed": false,
    "scrolled": true
   },
   "outputs": [],
   "source": [
    "FRAC_TRAIN = 0.8\n",
    "\n",
    "def split_train_test(my_files_df, frac_train=0.8, save_prefix=\"\"):\n",
    "\n",
    "    train_df = my_files_df.sample(int(len(my_files_df) * frac_train))\n",
    "    test_df  = my_files_df[~my_files_df.index.isin(train_df.index)]\n",
    "\n",
    "    print \"Train: %d; Test: %d\"%(len(train_df), len(test_df))\n",
    "\n",
    "    train_df.to_csv(\"%strain.csv\"%save_prefix, index=False)\n",
    "    test_df.to_csv(\"%stest.csv\"%save_prefix, index=False)\n",
    "\n",
    "    return train_df, test_df"
   ]
  },
  {
   "cell_type": "code",
   "execution_count": 23,
   "metadata": {
    "collapsed": false
   },
   "outputs": [
    {
     "name": "stdout",
     "output_type": "stream",
     "text": [
      "Train: 110552; Test: 27638\n"
     ]
    }
   ],
   "source": [
    "mycities = cities\n",
    "my_files_df = files_df[files_df['city'].isin(mycities)]\n",
    "\n",
    "train_df, test_df = split_train_test(my_files_df, frac_train=0.8)"
   ]
  },
  {
   "cell_type": "code",
   "execution_count": 24,
   "metadata": {
    "collapsed": false,
    "scrolled": true
   },
   "outputs": [
    {
     "data": {
      "text/plain": [
       "Agricultural + Semi-natural areas + Wetlands                  23549\n",
       "High Density Urban Fabric                                     22583\n",
       "Forests                                                       14001\n",
       "Industrial, commercial, public, military and private units    13287\n",
       "Medium Density Urban Fabric                                   11898\n",
       "Low Density Urban Fabric                                       7910\n",
       "Sports and leisure facilities                                  6363\n",
       "Green urban areas                                              5975\n",
       "Water bodies                                                   3661\n",
       "Airports                                                       1325\n",
       "Name: class, dtype: int64"
      ]
     },
     "execution_count": 24,
     "metadata": {},
     "output_type": "execute_result"
    }
   ],
   "source": [
    "train_df['class'].value_counts()"
   ]
  },
  {
   "cell_type": "code",
   "execution_count": 25,
   "metadata": {
    "collapsed": false,
    "scrolled": true
   },
   "outputs": [
    {
     "data": {
      "text/plain": [
       "Agricultural + Semi-natural areas + Wetlands                  6000\n",
       "High Density Urban Fabric                                     5644\n",
       "Forests                                                       3392\n",
       "Industrial, commercial, public, military and private units    3281\n",
       "Medium Density Urban Fabric                                   2993\n",
       "Low Density Urban Fabric                                      1933\n",
       "Sports and leisure facilities                                 1589\n",
       "Green urban areas                                             1497\n",
       "Water bodies                                                   966\n",
       "Airports                                                       343\n",
       "Name: class, dtype: int64"
      ]
     },
     "execution_count": 25,
     "metadata": {},
     "output_type": "execute_result"
    }
   ],
   "source": [
    "test_df['class'].value_counts()"
   ]
  },
  {
   "cell_type": "markdown",
   "metadata": {},
   "source": [
    "### Set up batching\n",
    "\n",
    "The data is stored in folders in the format \"/city/class-name/city_zoom_lat_lon.jpg\". It's not feasible to try to separate the data into train/test beforehand, this should be done via files for train/test with file paths when training the model.\n"
   ]
  },
  {
   "cell_type": "code",
   "execution_count": 27,
   "metadata": {
    "collapsed": true,
    "scrolled": true
   },
   "outputs": [],
   "source": [
    "BATCH_SIZE = 100\n",
    "\n",
    "# Generator for preprocessing images for data augmentation\n",
    "\n",
    "from keras.preprocessing.image import ImageDataGenerator\n",
    "\n",
    "# this is the augmentation configuration we will use for training\n",
    "train_augmenter = ImageDataGenerator(\n",
    "        rescale=1./255,\n",
    "        shear_range=0.10,\n",
    "        zoom_range=[1,1.2],\n",
    "        vertical_flip=True,\n",
    "        rotation_range=15,\n",
    "        horizontal_flip=True)\n",
    "\n",
    "test_augmenter = ImageDataGenerator(rescale=1./255)\n"
   ]
  },
  {
   "cell_type": "code",
   "execution_count": 51,
   "metadata": {
    "collapsed": false,
    "scrolled": true
   },
   "outputs": [
    {
     "name": "stdout",
     "output_type": "stream",
     "text": [
      "(0.0, 1.0, 10638157.176030645, dtype('float64')) (100, 224, 224, 3) 417\n",
      "(0.0, 1.0, 10668772.687457465, dtype('float64')) (100, 224, 224, 3) 468\n",
      "(0.0, 1.0, 10204396.234571125, dtype('float64')) (100, 224, 224, 3) 414\n",
      "(0.0, 1.0, 10347384.595582604, dtype('float64')) (100, 224, 224, 3) 392\n",
      "(0.0, 1.0, 10255098.442382259, dtype('float64')) (100, 224, 224, 3) 459\n",
      "(0.0, 1.0, 10771694.943296986, dtype('float64')) (100, 224, 224, 3) 517\n"
     ]
    }
   ],
   "source": [
    "tr_gen = ku.generator_from_file(\"train.csv\", \\\n",
    "                                      image_generator=train_augmenter, \\\n",
    "                                      class_dict = class2label,\\\n",
    "                                      balance = 1,\n",
    "                                      crop=42,\n",
    "                                      #downsample=2,\n",
    "                                      new_img_shape=(224,224), \n",
    "                                      batch_size=BATCH_SIZE)\n",
    "ts_gen = ku.generator_from_file(\"test.csv\", \\\n",
    "                                      image_generator=test_augmenter, \\\n",
    "                                      class_dict = class2label,\\\n",
    "                                      crop=42,\n",
    "                                      balance = 1,\n",
    "                                      #downsample=2,\n",
    "                                      new_img_shape=(224,224), \n",
    "                                      batch_size=BATCH_SIZE)\n",
    "i = 0\n",
    "for X, y in tr_gen:\n",
    "    print (X.min(), X.max(), X.sum(), X.dtype), X.shape, y.argmax(1).sum()\n",
    "    i += 1\n",
    "    if i > 5:\n",
    "        break\n",
    "    "
   ]
  },
  {
   "cell_type": "code",
   "execution_count": 53,
   "metadata": {
    "collapsed": false,
    "scrolled": false
   },
   "outputs": [
    {
     "data": {
      "text/plain": [
       "<matplotlib.text.Text at 0x7f1d72499690>"
      ]
     },
     "execution_count": 53,
     "metadata": {},
     "output_type": "execute_result"
    },
    {
     "data": {
      "image/png": "[encoded data removed]",
      "text/plain": [
       "<matplotlib.figure.Figure at 0x7f1d749055d0>"
      ]
     },
     "metadata": {},
     "output_type": "display_data"
    }
   ],
   "source": [
    "plt.imshow(X[0,:,:,:])\n",
    "plt.title(label2class[y[0].argmax()])"
   ]
  },
  {
   "cell_type": "markdown",
   "metadata": {},
   "source": [
    "# Define architectures\n",
    "\n",
    "This uses models previously trained on the DeepSat benchmark."
   ]
  },
  {
   "cell_type": "markdown",
   "metadata": {},
   "source": [
    "#### VGG16 model pre-trained on DeepSat data"
   ]
  },
  {
   "cell_type": "code",
   "execution_count": null,
   "metadata": {
    "collapsed": false,
    "scrolled": true
   },
   "outputs": [],
   "source": [
    "from keras.layers import Dense, Flatten\n",
    "from keras.models import Model, Sequential\n",
    "\n",
    "def setup_vgg16(n_classes, model_file):\n",
    "    # load model and weights\n",
    "    model = keras.models.load_model(model_file)\n",
    "\n",
    "    # there's a bug in how Keras handles popping layers for net surgery\n",
    "    # even if the last layer is popped, the model still believes its output shape is the old one\n",
    "    # see https://github.com/fchollet/keras/issues/2371\n",
    "    model.layers.pop() # Get rid of the classification layer\n",
    "    model.outputs = [model.layers[-1].output]\n",
    "    model.output_layers = [model.layers[-1]] # added this line in addition to zo7 solution\n",
    "    model.layers[-1].outbound_nodes = []\n",
    "\n",
    "    # add new top model for classification over Urban Atlas classes\n",
    "    top_model = Dense(n_classes, input_shape=model.layers[-1].output_shape[1:], \n",
    "                  activation='softmax', name=\"dense8_new\")\n",
    "    model.add(top_model)\n",
    "    \n",
    "    return model\n",
    "\n",
    "model_file_vgg16 = \"../deepsat-experiments/vgg16-deepsat-imagenet-best-checkpoint.h5\""
   ]
  },
  {
   "cell_type": "markdown",
   "metadata": {},
   "source": [
    "#### Resnet-50 model pre-trained on DeepSat data"
   ]
  },
  {
   "cell_type": "code",
   "execution_count": null,
   "metadata": {
    "collapsed": false,
    "scrolled": true
   },
   "outputs": [],
   "source": [
    "from keras.layers import Dense\n",
    "\n",
    "def setup_resnet50(n_classes, model_file):\n",
    "\n",
    "    model = keras.models.load_model(model_file)\n",
    "\n",
    "    model.layers.pop() # Get rid of the classification layer\n",
    "    model.outputs = [model.layers[-1].output]\n",
    "    model.output_layers = [model.layers[-1]] # added this line in addition to zo7 solution\n",
    "    model.layers[-1].outbound_nodes = []\n",
    "\n",
    "    newClassificationLayer = Dense(N_CLASSES, activation='softmax')(model.layers[-1].output)\n",
    "    model = Model(input=model.input, output=newClassificationLayer)\n",
    "    \n",
    "    return model\n",
    "\n",
    "model_file_resnet50 = \"../deepsat-experiments/resnet-deepsat-imagenet-best-checkpoint.h5\""
   ]
  },
  {
   "cell_type": "markdown",
   "metadata": {},
   "source": [
    "# Define training protocol"
   ]
  },
  {
   "cell_type": "code",
   "execution_count": null,
   "metadata": {
    "collapsed": true
   },
   "outputs": [],
   "source": [
    "import re\n",
    "\n",
    "def fn_get_acc(filename):\n",
    "    reg = r\"-(\\d.+)-\"\n",
    "    match = re.search(reg, filename)\n",
    "    return float(filename[match.start():match.end()].replace(\"-\",\"\"))\n"
   ]
  },
  {
   "cell_type": "code",
   "execution_count": null,
   "metadata": {
    "collapsed": false,
    "scrolled": false
   },
   "outputs": [],
   "source": [
    "from keras.optimizers import SGD, RMSprop, Adadelta, Adagrad, Adam\n",
    "from keras.callbacks import ModelCheckpoint, ReduceLROnPlateau, TensorBoard\n",
    "\n",
    "GPUS = [0,1,2,3]\n",
    "BASE_LR = 0.1\n",
    "LR_DECAY_PER_EPOCH = 2.0 #1.1\n",
    "\n",
    "def train_cycle(model, train_generator, test_generator, fix_base=True, save_prefix=\"\", nb_epochs=50):\n",
    "    \n",
    "    # control whether to train on \n",
    "    trainable_layers = [l.name for l in model.layers if len(l.get_weights())>0 ]\n",
    "    for l in model.layers:\n",
    "        l.trainable = (not fix_base) or (l.name == trainable_layers[-1])\n",
    "\n",
    "    # this uses the TensorFlow backend to spread computation on multiple GPUs\n",
    "    model_gpu = make_parallel(model, GPUS)\n",
    "\n",
    "    # compile model\n",
    "    model_gpu.compile(loss='categorical_crossentropy', \\\n",
    "                  metrics=['accuracy', 'precision', 'recall'],\\\n",
    "                  optimizer=Adadelta(lr=BASE_LR))\n",
    "\n",
    "    # Logs to TensorBoard, new one for each run\n",
    "    log_path_tensorboard = \"./logs/\"\n",
    "    now = time.strftime(\"%c\")\n",
    "    tensorboard_callback_fn = TensorBoard(log_dir=log_path_tensorboard + now + \"-\" + save_prefix, \\\n",
    "                                    histogram_freq=0, \\\n",
    "                                    write_graph=True, \\\n",
    "                                    write_images=False)\n",
    "\n",
    "    \n",
    "    # callback to checkpoint best model\n",
    "    ckpt_file = \"%s-{val_acc:.2f}-checkpoint.h5\"%save_prefix\n",
    "    model_checkpoint_callback = ModelCheckpoint(ckpt_file, monitor='val_acc', \\\n",
    "                                                verbose=1, save_best_only=True, mode='max')\n",
    "\n",
    "    # callback for a custom learning rate decay schedule\n",
    "\n",
    "    lr_scheduler = lambda epoch: BASE_LR * LR_DECAY_PER_EPOCH**(-(epoch/10))\n",
    "    lr_decay_callback = keras.callbacks.LearningRateScheduler(lr_scheduler)\n",
    "\n",
    "    # early stopping callback\n",
    "    earlystopping_callback = keras.callbacks.EarlyStopping(monitor='val_acc', \\\n",
    "                                                           min_delta=1e-4, \\\n",
    "                                                           patience=10, verbose=0, mode='auto')\n",
    "    lr_reducer_callback = ReduceLROnPlateau(monitor='val_loss', \\\n",
    "                                            factor=np.sqrt(0.1), \\\n",
    "                                            cooldown=0, patience=5, \\\n",
    "                                            min_lr=0.5e-6)\n",
    "\n",
    "    # train model\n",
    "    history = model_gpu.fit_generator(\n",
    "                train_generator,\n",
    "                samples_per_epoch=2000,\n",
    "                class_weight=class_weights,\n",
    "                nb_epoch=nb_epochs,\n",
    "                validation_data=test_generator,\n",
    "                callbacks = [tensorboard_callback_fn, lr_decay_callback, \\\n",
    "                             model_checkpoint_callback, \n",
    "                             earlystopping_callback, lr_reducer_callback],\n",
    "                nb_val_samples=1000)\n",
    "    \n",
    "    # return checkpoint of maximum validation accuracy\n",
    "    model_files = glob.glob(\"%s-*-checkpoint.h5\"%save_prefix)\n",
    "    checkpoints_dict = {f:fn_get_acc(f) for f in model_files}\n",
    "    best_checkpoint_file = checkpoints_dict.keys()[checkpoints_dict.values().index(max(checkpoints_dict.values()))]\n",
    "    return max(history.history['val_acc']), best_checkpoint_file"
   ]
  },
  {
   "cell_type": "code",
   "execution_count": null,
   "metadata": {
    "collapsed": true
   },
   "outputs": [],
   "source": [
    "# Keras won't release GPU memory, so training multiple models within a loop might crash.\n",
    "# This is a fix that runs each training cycle in its own OS process using the multiprocessing module.\n",
    "# See via https://github.com/fchollet/keras/issues/2689\n",
    "\n",
    "from multiprocessing import Process, Queue\n",
    "\n",
    "def run_in_separate_process(method, args):\n",
    "    def queue_wrapper(q, params):\n",
    "        r = method(*params)\n",
    "        q.put(r)\n",
    "\n",
    "    q = Queue()\n",
    "    p = Process(target=queue_wrapper, args=(q, args))\n",
    "    p.start()\n",
    "    return_val = q.get()\n",
    "    p.join()\n",
    "    return return_val\n",
    "\n",
    "# another solution is as follows:\n",
    "\n",
    "# from keras import backend as K\n",
    "# K.clear_session()\n"
   ]
  },
  {
   "cell_type": "code",
   "execution_count": null,
   "metadata": {
    "collapsed": false,
    "scrolled": false
   },
   "outputs": [],
   "source": [
    "# model = setup_resnet50(N_CLASSES, model_file_resnet50)    \n",
    "\n",
    "# # train using initial weights, only train top layer\n",
    "# best_acc, best_checkpoint = train_cycle(model, tr_gen, ts_gen, fix_base=True, nb_epochs=30,\\\n",
    "#                                         save_prefix=\"%s-urbanatlas-%s\"%(\"resnet50\", \"+\".join(mycities)))\n",
    "\n",
    "# K.clear_session()"
   ]
  },
  {
   "cell_type": "markdown",
   "metadata": {},
   "source": [
    "# Loop through experiments"
   ]
  },
  {
   "cell_type": "code",
   "execution_count": null,
   "metadata": {
    "collapsed": false
   },
   "outputs": [],
   "source": [
    "# # set up experiments\n",
    "\n",
    "# cities = [\"athina\", \"berlin\", \"bucuresti\", \"tallinn\", \"barcelona\", \"dublin\"]\n",
    "# mycities = [[x] for x in cities] + [list(set(cities)-set([c])) for c in cities]\n",
    "\n",
    "# architectures = [(\"resnet50\", setup_resnet50, model_file_resnet50),\n",
    "#                  (\"vgg16\", setup_vgg16, model_file_vgg16)]"
   ]
  },
  {
   "cell_type": "code",
   "execution_count": null,
   "metadata": {
    "collapsed": false
   },
   "outputs": [],
   "source": [
    "# set up experiments\n",
    "\n",
    "cities = [\"roma\", \"budapest\"]\n",
    "mycities = [[x] for x in cities] \n",
    "\n",
    "architectures = [(\"resnet50\", setup_resnet50, model_file_resnet50),\n",
    "                 (\"vgg16\", setup_vgg16, model_file_vgg16)]"
   ]
  },
  {
   "cell_type": "code",
   "execution_count": null,
   "metadata": {
    "collapsed": false
   },
   "outputs": [],
   "source": [
    "mycities"
   ]
  },
  {
   "cell_type": "code",
   "execution_count": null,
   "metadata": {
    "collapsed": false
   },
   "outputs": [],
   "source": [
    "val_acc_dict = {}"
   ]
  },
  {
   "cell_type": "code",
   "execution_count": null,
   "metadata": {
    "collapsed": false,
    "scrolled": false
   },
   "outputs": [],
   "source": [
    "from keras.optimizers import SGD, RMSprop, Adadelta, Adagrad, Adam\n",
    "import time\n",
    "\n",
    "for cur_cities in mycities:\n",
    "    \n",
    "    # load data, set up classes\n",
    "    \n",
    "    my_files_df = files_df[files_df['city'].isin(cur_cities)]\n",
    "    save_prefix = \"+\".join(cur_cities)\n",
    "    \n",
    "    # split into test & train\n",
    "    \n",
    "    train_df = my_files_df.sample(int(len(my_files_df) * FRAC_TRAIN))\n",
    "    train_csv= \"%s-train.csv\"%save_prefix\n",
    "    train_df.to_csv(train_csv, index=False)\n",
    "\n",
    "    test_df  = my_files_df[~my_files_df.index.isin(train_df.index)]\n",
    "    test_csv = \"%s-test.csv\"%save_prefix\n",
    "    test_df.to_csv(test_csv, index=False)\n",
    "    print \"%s | train: %d | test: %d\"%(\"+\".join(cur_cities), len(train_df), len(test_df))\n",
    "\n",
    "    # define test & train generators\n",
    "    \n",
    "    train_generator = ku.generator_from_file(train_csv, \\\n",
    "                                      image_generator=train_augmenter, \\\n",
    "                                      class_dict = class2label,\\\n",
    "                                      balance = 1,\n",
    "                                      #downsample=2,\n",
    "                                      new_img_shape=(224,224), \n",
    "                                      batch_size=BATCH_SIZE)\n",
    "    test_generator  = ku.generator_from_file(test_csv, \\\n",
    "                                          image_generator=test_augmenter, \\\n",
    "                                          balance = 1,\n",
    "                                          #downsample=2,\n",
    "                                          class_dict = class2label,\\\n",
    "                                          new_img_shape=(224,224), \n",
    "                                          batch_size=BATCH_SIZE)\n",
    "    # train architectures \n",
    "    \n",
    "    for architecture, fn_setup_architecture, model_file in architectures:\n",
    "        \n",
    "        existing_checkpoints = glob.glob(\"*checkpoint.h5\")\n",
    "        existing_checkpoints = np.unique([f.split(\"-\")[0] + f.split(\"-\")[2] for f in existing_checkpoints])\n",
    "        if architecture + save_prefix in existing_checkpoints:\n",
    "            print (architecture, save_prefix), \"already computed!\"\n",
    "            continue\n",
    "        \n",
    "        # set up model\n",
    "        K.clear_session()\n",
    "        model = fn_setup_architecture(N_CLASSES, model_file)    \n",
    "        \n",
    "        # train using initial weights, only train top layer for a smaller number of epochs\n",
    "        # this is because the random initialization might propagate errors down the network\n",
    "        print \"%s | %s | training top layer\" % (save_prefix, architecture) \n",
    "        best_acc1, best_checkpoint = train_cycle(model, train_generator, test_generator, fix_base=True, nb_epochs=20,\\\n",
    "                                                save_prefix=\"%s-urbanatlas-%s\"%(architecture, save_prefix))\n",
    "        clear_output(wait=True)\n",
    "        K.clear_session()\n",
    "        \n",
    "        # further train all layers in the network\n",
    "        print \"%s | %s | training all layers\" % (save_prefix, architecture) \n",
    "        model = keras.models.load_model(best_checkpoint)\n",
    "        best_acc2, best_checkpoint = train_cycle(model, train_generator, test_generator, fix_base=False, \\\n",
    "                                                save_prefix=\"%s-urbanatlas-%s\"%(architecture, save_prefix))        \n",
    "        clear_output(wait=True)\n",
    "        K.clear_session()\n",
    "        \n",
    "        # further train all layers in the network starting from best checkpoint\n",
    "        # looks like this improves the accuracy slightly in experiments\n",
    "        print \"%s | %s | further training\" % (save_prefix, architecture) \n",
    "        model = keras.models.load_model(best_checkpoint)\n",
    "        best_acc3, best_checkpoint = train_cycle(model, train_generator, test_generator, fix_base=False, \\\n",
    "                                                save_prefix=\"%s-urbanatlas-%s\"%(architecture, save_prefix))\n",
    "        clear_output(wait=True)\n",
    "        K.clear_session()        \n",
    "        \n",
    "        val_acc_dict[(save_prefix, architecture)] = (best_acc1, best_acc2, best_acc3)"
   ]
  },
  {
   "cell_type": "markdown",
   "metadata": {},
   "source": [
    "# Pick two cities, train with different patch sizes"
   ]
  },
  {
   "cell_type": "code",
   "execution_count": 56,
   "metadata": {
    "collapsed": true
   },
   "outputs": [],
   "source": [
    "cities = [\"roma\", \"barcelona\"]\n",
    "\n",
    "crop_vec = [42, 84, 126]"
   ]
  },
  {
   "cell_type": "code",
   "execution_count": 57,
   "metadata": {
    "collapsed": false
   },
   "outputs": [
    {
     "data": {
      "text/plain": [
       "[50.0, 100.0, 150.0]"
      ]
     },
     "execution_count": 57,
     "metadata": {},
     "output_type": "execute_result"
    }
   ],
   "source": [
    "[round(x*1.19) for x in crop_vec]"
   ]
  },
  {
   "cell_type": "code",
   "execution_count": null,
   "metadata": {
    "collapsed": true
   },
   "outputs": [],
   "source": [
    "from keras.optimizers import SGD, RMSprop, Adadelta, Adagrad, Adam\n",
    "import time\n",
    "\n",
    "for city in mycities:\n",
    "    # split into test & train\n",
    "    train_csv= \"%s-train.csv\"%city\n",
    "    test_csv = \"%s-test.csv\"%city\n",
    "    \n",
    "    for crop in crop_vec:\n",
    "\n",
    "        # load data, set up classes\n",
    "        my_files_df = files_df[files_df['city']==city]\n",
    "        save_prefix = \"%s-%dm\"%(city, int(round(crop*1.19)))\n",
    "\n",
    "        # define test & train generators\n",
    "\n",
    "        train_generator = ku.generator_from_file(train_csv, \\\n",
    "                                          image_generator=train_augmenter, \\\n",
    "                                          class_dict = class2label,\\\n",
    "                                          balance = 1,\n",
    "                                          crop=crop,\n",
    "                                          #downsample=2,\n",
    "                                          new_img_shape=(224,224), \n",
    "                                          batch_size=BATCH_SIZE)\n",
    "        test_generator  = ku.generator_from_file(test_csv, \\\n",
    "                                              image_generator=test_augmenter, \\\n",
    "                                              balance = 1,\n",
    "                                              crop=crop,\n",
    "                                              #downsample=2,\n",
    "                                              class_dict = class2label,\\\n",
    "                                              new_img_shape=(224,224), \n",
    "                                              batch_size=BATCH_SIZE)\n",
    "        # set up model\n",
    "        K.clear_session()\n",
    "        print model_file\n",
    "        \n",
    "        model = setup_resnet50(N_CLASSES, model_file_resnet50)    \n",
    "\n",
    "        # train using initial weights, only train top layer for a smaller number of epochs\n",
    "        # this is because the random initialization might propagate errors down the network\n",
    "        print \"%s | %s | training top layer\" % (save_prefix, architecture) \n",
    "        best_acc1, best_checkpoint = train_cycle(model, train_generator, test_generator, fix_base=True, nb_epochs=20,\\\n",
    "                                                save_prefix=\"%s-urbanatlas-%s\"%(architecture, save_prefix))\n",
    "        clear_output(wait=True)\n",
    "        K.clear_session()\n",
    "\n",
    "        # further train all layers in the network\n",
    "        print \"%s | %s | training all layers\" % (save_prefix, architecture) \n",
    "        model = keras.models.load_model(best_checkpoint)\n",
    "        best_acc2, best_checkpoint = train_cycle(model, train_generator, test_generator, fix_base=False, \\\n",
    "                                                save_prefix=\"%s-urbanatlas-%s\"%(architecture, save_prefix))        \n",
    "        clear_output(wait=True)\n",
    "        K.clear_session()\n",
    "\n",
    "        # further train all layers in the network starting from best checkpoint\n",
    "        # looks like this improves the accuracy slightly in experiments\n",
    "        print \"%s | %s | further training\" % (save_prefix, architecture) \n",
    "        model = keras.models.load_model(best_checkpoint)\n",
    "        best_acc3, best_checkpoint = train_cycle(model, train_generator, test_generator, fix_base=False, nb_epochs=10,\\\n",
    "                                                save_prefix=\"%s-urbanatlas-%s\"%(architecture, save_prefix))\n",
    "        clear_output(wait=True)\n",
    "        K.clear_session()        \n"
   ]
  }
 ],
 "metadata": {
  "kernelspec": {
   "display_name": "Python 2",
   "language": "python",
   "name": "python2"
  },
  "language_info": {
   "codemirror_mode": {
    "name": "ipython",
    "version": 2
   },
   "file_extension": ".py",
   "mimetype": "text/x-python",
   "name": "python",
   "nbconvert_exporter": "python",
   "pygments_lexer": "ipython2",
   "version": "2.7.6"
  }
 },
 "nbformat": 4,
 "nbformat_minor": 2
}
