{
 "cells": [
  {
   "cell_type": "code",
   "execution_count": 1,
   "metadata": {
    "collapsed": false
   },
   "outputs": [],
   "source": [
    "import numpy as np\n",
    "import pandas as pd\n",
    "import scipy\n",
    "import scipy.io\n",
    "\n",
    "import sys, os, time\n",
    "import glob\n",
    "\n",
    "from matplotlib import pyplot as plt\n",
    "%matplotlib inline\n",
    "from skimage.transform import resize\n",
    "from skimage.io import imsave\n",
    "\n",
    "import seaborn as sns\n",
    "sns.set_style(\"whitegrid\", {'axes.grid' : False})\n",
    "\n",
    "from IPython.display import clear_output\n",
    "\n",
    "# these magics ensure that external modules that are modified are also automatically reloaded\n",
    "%load_ext autoreload\n",
    "%autoreload 2"
   ]
  },
  {
   "cell_type": "markdown",
   "metadata": {},
   "source": [
    "# Set up data access"
   ]
  },
  {
   "cell_type": "code",
   "execution_count": 2,
   "metadata": {
    "collapsed": true
   },
   "outputs": [],
   "source": [
    "path_to_data = \"/home/adalbert/data/DeepSat/sat-6-full.mat\""
   ]
  },
  {
   "cell_type": "code",
   "execution_count": 3,
   "metadata": {
    "collapsed": false
   },
   "outputs": [
    {
     "name": "stdout",
     "output_type": "stream",
     "text": [
      "6\n",
      "Train: (324000, 28, 28, 4)\n",
      "Test:  (81000, 28, 28, 4)\n"
     ]
    }
   ],
   "source": [
    "mat = scipy.io.loadmat(path_to_data)\n",
    "\n",
    "X_train = mat['train_x'].transpose((3,0,1,2))\n",
    "y_train = mat['train_y'].transpose((1,0))\n",
    "X_test = mat['test_x'].transpose((3,0,1,2))\n",
    "y_test = mat['test_y'].transpose((1,0))\n",
    "classes = mat['annotations']\n",
    "\n",
    "N_CLASSES = len(classes)\n",
    "print N_CLASSES\n",
    "print \"Train:\", X_train.shape\n",
    "print \"Test: \", X_test.shape"
   ]
  },
  {
   "cell_type": "code",
   "execution_count": 5,
   "metadata": {
    "collapsed": false
   },
   "outputs": [],
   "source": [
    "# # resize the image to slightly larger to work with VGG16 model\n",
    "# # still unclear why 32x32 works, but not 28x28\n",
    "\n",
    "# X_train_resize = np.array([resize(X_train[i], (32,32), preserve_range=True).astype(np.uint8) \\\n",
    "#                            for i in range(len(X_train))])\n",
    "# X_test_resize = np.array([resize(X_test[i], (32,32), preserve_range=True).astype(np.uint8) \\\n",
    "#                            for i in range(len(X_test))])\n",
    "\n",
    "# with open(\"/home/adalbert/data/DeepSat/sat-6-train-32.npy\", \"w\") as f:\n",
    "#     np.save(f, X_train_resize)\n",
    "# with open(\"/home/adalbert/data/DeepSat/sat-6-test-32.npy\", \"w\") as f:\n",
    "#     np.save(f, X_test_resize)"
   ]
  },
  {
   "cell_type": "code",
   "execution_count": 6,
   "metadata": {
    "collapsed": false
   },
   "outputs": [],
   "source": [
    "onehot_class_dict = {classes[i,0][0]:classes[i,1][0] for i in range(len(classes))}\n",
    "class_dict = {i:k for k,i in enumerate(onehot_class_dict.keys())}\n",
    "\n",
    "labels_train = map(lambda x: class_dict[\"\".join([str(s) for s in x])], y_train)\n",
    "labels_test  = map(lambda x: class_dict[\"\".join([str(s) for s in x])], y_test)"
   ]
  },
  {
   "cell_type": "code",
   "execution_count": 7,
   "metadata": {
    "collapsed": false
   },
   "outputs": [
    {
     "data": {
      "text/plain": [
       "{0: u'road',\n",
       " 1: u'water',\n",
       " 2: u'grassland',\n",
       " 3: u'building',\n",
       " 4: u'barren land',\n",
       " 5: u'trees'}"
      ]
     },
     "execution_count": 7,
     "metadata": {},
     "output_type": "execute_result"
    }
   ],
   "source": [
    "label2class = {v:onehot_class_dict[k] for k,v in class_dict.iteritems()}\n",
    "label2class"
   ]
  },
  {
   "cell_type": "code",
   "execution_count": 8,
   "metadata": {
    "collapsed": false
   },
   "outputs": [
    {
     "data": {
      "text/plain": [
       "((324000, 28, 28, 4), (324000, 6), (81000, 28, 28, 4), (81000, 6))"
      ]
     },
     "execution_count": 8,
     "metadata": {},
     "output_type": "execute_result"
    }
   ],
   "source": [
    "X_train.shape, y_train.shape, X_test.shape, y_test.shape"
   ]
  },
  {
   "cell_type": "markdown",
   "metadata": {},
   "source": [
    "# Save images to disc\n",
    "Create an original dataset and a resized one."
   ]
  },
  {
   "cell_type": "code",
   "execution_count": null,
   "metadata": {
    "collapsed": false
   },
   "outputs": [
    {
     "name": "stdout",
     "output_type": "stream",
     "text": [
      "0 / 81000\n"
     ]
    }
   ],
   "source": [
    "new_shape = (224,224,3)\n",
    "\n",
    "# savepath = \"/home/adalbert/data/DeepSat/img/train\"\n",
    "# X = X_train\n",
    "# labels = labels_train\n",
    "\n",
    "savepath = \"/home/adalbert/data/DeepSat/img-224/test\"\n",
    "X = X_test\n",
    "labels = labels_test\n",
    "\n",
    "for c in label2class.values():\n",
    "    basedir = savepath + \"/\" + c\n",
    "    if not os.path.exists(basedir):\n",
    "        os.makedirs(basedir)\n",
    "    \n",
    "for i in range(len(X)):\n",
    "    if i % 1000 == 0:\n",
    "        clear_output(wait=True)\n",
    "        print i, '/', len(X)\n",
    "    cur_class = labels[i]\n",
    "    basedir = savepath + \"/\" + label2class[cur_class]\n",
    "    img = X[i][:,:,:3]\n",
    "    img = resize(img, new_shape, preserve_range=True).astype(np.uint8)\n",
    "    imsave(\"%s/%d.jpg\"%(basedir, i), img)"
   ]
  },
  {
   "cell_type": "markdown",
   "metadata": {},
   "source": [
    "# Plot examples"
   ]
  },
  {
   "cell_type": "code",
   "execution_count": null,
   "metadata": {
    "collapsed": true
   },
   "outputs": [],
   "source": [
    "def plot_examples(images, labels, classes=None, \\\n",
    "                  nExamples=10, thumbSize = (50,50), title=\"example\"):\n",
    "    # build example canvass \n",
    "    from skimage.transform import resize\n",
    "    \n",
    "    clustLabels = np.unique(labels)\n",
    "    nClusters = clustLabels.size\n",
    "    canvas = np.zeros((thumbSize[0]*nClusters, nExamples*thumbSize[1], 3))\n",
    "    for i,c in enumerate(clustLabels):\n",
    "        cur_class_samples = np.where(labels==c)[0]\n",
    "        idx = np.random.choice(cur_class_samples, replace=False, size=min([nExamples, len(cur_class_samples)]))\n",
    "        for j in range(len(idx)):\n",
    "            img = images[idx[j],:,:,:3]\n",
    "            img = resize(img, thumbSize)\n",
    "            canvas[i*thumbSize[0]:(i+1)*thumbSize[0], j*thumbSize[1]:(j+1)*thumbSize[1]] = img\n",
    "    \n",
    "    # plot examples of each class\n",
    "    fig,ax = plt.subplots(1, figsize=(12,12))\n",
    "    plt.tight_layout()\n",
    "    ax.imshow(canvas)#, aspect='auto')\n",
    "    ax.set_title(title, fontsize=18)\n",
    "    ax.set_xlabel(\"-- examples --\", fontsize=16)\n",
    "    ax.set_ylabel(\"-- clusters --\", fontsize=16)\n",
    "    # Turn off tick labels\n",
    "    if classes is None: classes = []\n",
    "    ax.set_yticks([thumbSize[0]*(0.5 + x) for x in range(nClusters)])\n",
    "    ax.set_yticklabels(classes, fontsize=16)\n",
    "    ax.set_xticklabels([])\n",
    "    #plt.axis(\"off\")\n",
    "    plt.show()"
   ]
  },
  {
   "cell_type": "code",
   "execution_count": null,
   "metadata": {
    "collapsed": false
   },
   "outputs": [],
   "source": [
    "plot_examples(X_train, labels_train, classes=onehot_class_dict.values())"
   ]
  },
  {
   "cell_type": "code",
   "execution_count": null,
   "metadata": {
    "collapsed": true
   },
   "outputs": [],
   "source": []
  }
 ],
 "metadata": {
  "kernelspec": {
   "display_name": "Python 2",
   "language": "python",
   "name": "python2"
  },
  "language_info": {
   "codemirror_mode": {
    "name": "ipython",
    "version": 2
   },
   "file_extension": ".py",
   "mimetype": "text/x-python",
   "name": "python",
   "nbconvert_exporter": "python",
   "pygments_lexer": "ipython2",
   "version": "2.7.6"
  }
 },
 "nbformat": 4,
 "nbformat_minor": 1
}
